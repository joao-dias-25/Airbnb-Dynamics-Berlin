{
 "cells": [
  {
   "cell_type": "code",
   "execution_count": null,
   "metadata": {},
   "outputs": [],
   "source": [
    "import pandas as pd\n",
    "import numpy as np\n",
    "import matplotlib.pyplot as plt\n",
    "import seaborn as sns\n",
    "import plotly.express as px"
   ]
  },
  {
   "cell_type": "code",
   "execution_count": null,
   "metadata": {},
   "outputs": [],
   "source": [
    "# dataset example to see the columns\n",
    "table=pd.read_csv('../Final/Berlin/2020-08-30_listings.csv')\n",
    "table.columns"
   ]
  },
  {
   "cell_type": "code",
   "execution_count": null,
   "metadata": {},
   "outputs": [],
   "source": [
    "pd.set_option(\"display.max_columns\", 80) \n",
    "table.tail(6)"
   ]
  },
  {
   "cell_type": "code",
   "execution_count": null,
   "metadata": {},
   "outputs": [],
   "source": [
    "pd.set_option(\"display.max_rows\", 80) \n",
    "table.isnull().sum()"
   ]
  },
  {
   "cell_type": "code",
   "execution_count": null,
   "metadata": {},
   "outputs": [],
   "source": [
    "dates=['2020-08-30','2020-06-13', '2020-05-14','2020-04-17','2020-03-17','2020-02-18','2020-01-10',\n",
    "      '2019-12-11','2019-11-12','2019-10-16','2019-09-19','2019-08-12','2019-07-11','2019-06-08'\n",
    "       ,'2019-05-14','2019-04-11','2019-03-08','2019-02-06','2019-01-14']#,'2018-12-10','2018-11-07']#,\n",
    "       #'2018-10-10','2018-09-12','2018-08-14','2018-07-10','2018-06-09','2018-05-14','2018-04-12',\n",
    "       #'2017-05-08','2017-04-08','2017-03-06','2017-02-10','2017-01-06','2016-12-08','2016-11-07']\n",
    "       #'2016-10-04','2016-09-05','2016-08-04','2016-07-05','2016-06-03']\n",
    "       #bigcrash\n",
    "       #,'2016-05-03','2016-04-04','2016-02-04','2016-01-04', '2015-12-05','2015-11-08','2015-10-03']\n"
   ]
  },
  {
   "cell_type": "code",
   "execution_count": null,
   "metadata": {},
   "outputs": [],
   "source": [
    "main_columns=['id','latitude','longitude','listing_url' ,'host_id','host_name','host_since', 'host_location',\n",
    "              'room_type', 'neighbourhood_cleansed',\n",
    "              'neighbourhood_group_cleansed','review_scores_location', 'price',\n",
    "              'last_review', 'review_scores_rating', 'review_scores_accuracy', 'review_scores_cleanliness', \n",
    "              'review_scores_checkin','review_scores_communication', 'review_scores_location','review_scores_value',\n",
    "              'calculated_host_listings_count','number_of_reviews_ltm']"
   ]
  },
  {
   "cell_type": "code",
   "execution_count": null,
   "metadata": {},
   "outputs": [],
   "source": [
    "def merging_dates(list_dates):\n",
    "    df=pd.read_csv(f'../Final/Berlin/{list_dates[0]}_listings.csv', low_memory=False)[main_columns].copy()\n",
    "    df=df.assign(date = pd.to_datetime(list_dates[0], format='%Y-%m-%d'))\n",
    "    for date in list_dates[1:]:\n",
    "        df2=pd.read_csv(f'../Final/Berlin/{date}_listings.csv', low_memory=False)[main_columns].copy()\n",
    "        df2=df2.assign(date = pd.to_datetime(date, format='%Y-%m-%d'))\n",
    "        df=pd.concat([df,df2])\n",
    "        \n",
    "    df=df.sort_values(by='date').reset_index(drop=True)\n",
    "    \n",
    "    return df\n",
    "        "
   ]
  },
  {
   "cell_type": "code",
   "execution_count": null,
   "metadata": {},
   "outputs": [],
   "source": [
    "# Actual merging \n",
    "# dont run if not necessary\n",
    "\n",
    "newdf=merging_dates(dates)"
   ]
  },
  {
   "cell_type": "code",
   "execution_count": null,
   "metadata": {},
   "outputs": [],
   "source": [
    "newdf"
   ]
  },
  {
   "cell_type": "code",
   "execution_count": null,
   "metadata": {},
   "outputs": [],
   "source": []
  },
  {
   "cell_type": "code",
   "execution_count": null,
   "metadata": {},
   "outputs": [],
   "source": []
  },
  {
   "cell_type": "code",
   "execution_count": null,
   "metadata": {},
   "outputs": [],
   "source": [
    "###Cleaning some columns"
   ]
  },
  {
   "cell_type": "code",
   "execution_count": null,
   "metadata": {},
   "outputs": [],
   "source": [
    "#round latitude and longitude\n",
    "\n",
    "newdf[['latitude','longitude']]=newdf[['latitude','longitude']].round(decimals=5)"
   ]
  },
  {
   "cell_type": "code",
   "execution_count": null,
   "metadata": {},
   "outputs": [],
   "source": [
    "#clean the price\n",
    "\n",
    "newdf.price=pd.to_numeric(newdf.price.str.replace('$','').str.replace(',',''))"
   ]
  },
  {
   "cell_type": "code",
   "execution_count": null,
   "metadata": {},
   "outputs": [],
   "source": [
    "airbnbs=newdf.groupby(['date', 'room_type'], as_index=False).count()"
   ]
  },
  {
   "cell_type": "code",
   "execution_count": null,
   "metadata": {},
   "outputs": [],
   "source": [
    "airbnbs"
   ]
  },
  {
   "cell_type": "code",
   "execution_count": null,
   "metadata": {},
   "outputs": [],
   "source": [
    "# have a look on the number of airbnbs data through time\n",
    "\n",
    "fig, ax1 = plt.subplots(figsize=(15,5))\n",
    "\n",
    "\n",
    "\n",
    "sns.lineplot(x = \"date\", y = \"id\", data = airbnbs, hue = \"room_type\",\n",
    "             style = \"room_type\", markers = [\"o\", \"<\", \"^\",'>'],  legend=\"brief\",)\n",
    "\n",
    "\n",
    "ax1.set_ylabel('Number of airbnbs listings')\n",
    "fig.suptitle(\"Airbnb in Berlin\")\n",
    "fig.savefig(\"Listings in Berlin.png\")\n",
    "\n",
    "\n"
   ]
  },
  {
   "cell_type": "code",
   "execution_count": null,
   "metadata": {},
   "outputs": [],
   "source": []
  },
  {
   "cell_type": "code",
   "execution_count": null,
   "metadata": {},
   "outputs": [],
   "source": []
  },
  {
   "cell_type": "code",
   "execution_count": null,
   "metadata": {},
   "outputs": [],
   "source": []
  },
  {
   "cell_type": "code",
   "execution_count": null,
   "metadata": {},
   "outputs": [],
   "source": []
  },
  {
   "cell_type": "code",
   "execution_count": null,
   "metadata": {},
   "outputs": [],
   "source": []
  },
  {
   "cell_type": "code",
   "execution_count": null,
   "metadata": {},
   "outputs": [],
   "source": []
  },
  {
   "cell_type": "code",
   "execution_count": null,
   "metadata": {},
   "outputs": [],
   "source": [
    "# save file \n",
    "# dont run if not necessary\n",
    "\n",
    "name='from_jan2019'\n",
    "\n",
    "newdf.to_csv(f'../Final/Berlin/merge_data_files/{name}.csv') "
   ]
  },
  {
   "cell_type": "code",
   "execution_count": null,
   "metadata": {},
   "outputs": [],
   "source": [
    "#### lock data from dataset depending on the variable"
   ]
  },
  {
   "cell_type": "code",
   "execution_count": null,
   "metadata": {},
   "outputs": [],
   "source": [
    "#function for locking a dataset \n",
    "# column its a string\n",
    "#argument is a list \n",
    "\n",
    "\n",
    "def lock_data(column, argument):\n",
    "    df=pd.concat([newdf.loc[newdf[column]==i] for i in argument])\n",
    "    return df"
   ]
  },
  {
   "cell_type": "code",
   "execution_count": null,
   "metadata": {},
   "outputs": [],
   "source": [
    "#lock data from entire/apt\n",
    "lockdf=lock_data('room_type', ['Entire home/apt']).to_csv('../Final/Berlin/merge_data_files/Entire_home_apt_2019_2020.csv') "
   ]
  },
  {
   "cell_type": "code",
   "execution_count": null,
   "metadata": {},
   "outputs": [],
   "source": [
    "lockdf"
   ]
  },
  {
   "cell_type": "code",
   "execution_count": null,
   "metadata": {},
   "outputs": [],
   "source": [
    "# have a look on the number of airbnbs data through time\n",
    "\n",
    "fig, ax1 = plt.subplots(figsize=(15,5))\n",
    "\n",
    "airbnbs=lockdf.groupby('date').count()\n",
    "\n",
    "ax1.plot(airbnbs['latitude'] , color='r')\n",
    "ax1.set_ylabel('number of entire apartments on airbnbs',color='r')"
   ]
  },
  {
   "cell_type": "code",
   "execution_count": null,
   "metadata": {},
   "outputs": [],
   "source": [
    "# dataframe for ploting\n",
    "\n",
    "\n",
    "df_forplotting=newdf.copy()\n",
    "df_forplotting['date']=df_forplotting['date'].apply(lambda x: x.strftime('%Y-%m'))\n"
   ]
  },
  {
   "cell_type": "code",
   "execution_count": null,
   "metadata": {},
   "outputs": [],
   "source": [
    "df_forplotting.nunique()"
   ]
  },
  {
   "cell_type": "code",
   "execution_count": null,
   "metadata": {},
   "outputs": [],
   "source": [
    "#ploting through time\n",
    "#dont run if necessary\n",
    "\n",
    "fig = px.density_mapbox(df_forplotting, lat='latitude', lon='longitude',\n",
    "                        animation_frame=\"date\", radius=1,\n",
    "                        mapbox_style=\"stamen-terrain\")\n",
    "fig.update_layout(\n",
    "    title={'text': \"Airbnbs density map in Berlin \"})\n",
    "fig.show()\n",
    "fig.write_html(\"../Final/density_map.html\")"
   ]
  },
  {
   "cell_type": "code",
   "execution_count": null,
   "metadata": {},
   "outputs": [],
   "source": []
  },
  {
   "cell_type": "code",
   "execution_count": null,
   "metadata": {},
   "outputs": [],
   "source": []
  },
  {
   "cell_type": "code",
   "execution_count": null,
   "metadata": {},
   "outputs": [],
   "source": []
  },
  {
   "cell_type": "code",
   "execution_count": null,
   "metadata": {},
   "outputs": [],
   "source": []
  },
  {
   "cell_type": "code",
   "execution_count": null,
   "metadata": {},
   "outputs": [],
   "source": []
  }
 ],
 "metadata": {
  "kernelspec": {
   "display_name": "Python 3",
   "language": "python",
   "name": "python3"
  },
  "language_info": {
   "codemirror_mode": {
    "name": "ipython",
    "version": 3
   },
   "file_extension": ".py",
   "mimetype": "text/x-python",
   "name": "python",
   "nbconvert_exporter": "python",
   "pygments_lexer": "ipython3",
   "version": "3.8.3"
  }
 },
 "nbformat": 4,
 "nbformat_minor": 4
}
