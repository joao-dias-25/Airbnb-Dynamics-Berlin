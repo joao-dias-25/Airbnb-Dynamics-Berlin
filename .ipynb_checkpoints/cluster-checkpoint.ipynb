{
 "cells": [
  {
   "cell_type": "code",
   "execution_count": null,
   "metadata": {},
   "outputs": [],
   "source": [
    "import pandas as pd\n",
    "import numpy as np\n",
    "import matplotlib.pyplot as plt\n",
    "import seaborn as sns\n",
    "import plotly\n",
    "\n",
    "%matplotlib inline \n",
    "sns.set_style(\"white\")"
   ]
  },
  {
   "cell_type": "code",
   "execution_count": null,
   "metadata": {},
   "outputs": [],
   "source": [
    "## select the dataset\n",
    "#df=pd.read_csv('../Final/Berlin/merge_data_files/Entire_home_apt.csv' ,low_memory=False,index_col=0) \n",
    "df=pd.read_csv('../Final/Berlin/2020-06-13_listings.csv',low_memory=False)"
   ]
  },
  {
   "cell_type": "code",
   "execution_count": null,
   "metadata": {},
   "outputs": [],
   "source": [
    "# Listings segmentation using K-Means Clustering"
   ]
  },
  {
   "cell_type": "code",
   "execution_count": null,
   "metadata": {},
   "outputs": [],
   "source": [
    "pd.set_option(\"display.max_columns\", 106) \n",
    "df.head()"
   ]
  },
  {
   "cell_type": "code",
   "execution_count": null,
   "metadata": {},
   "outputs": [],
   "source": []
  },
  {
   "cell_type": "code",
   "execution_count": null,
   "metadata": {},
   "outputs": [],
   "source": []
  },
  {
   "cell_type": "code",
   "execution_count": null,
   "metadata": {},
   "outputs": [],
   "source": [
    "df.price"
   ]
  },
  {
   "cell_type": "code",
   "execution_count": null,
   "metadata": {},
   "outputs": [],
   "source": [
    "df.price=pd.to_numeric(df.price.str.replace('$','').str.replace(',',''))\n",
    "df.cleaning_fee=pd.to_numeric(df.cleaning_fee.str.replace('$','').str.replace(',',''))\n",
    "df.cleaning_fee"
   ]
  },
  {
   "cell_type": "code",
   "execution_count": null,
   "metadata": {},
   "outputs": [],
   "source": [
    "df.cleaning_fee.fillna(0, inplace = True) "
   ]
  },
  {
   "cell_type": "code",
   "execution_count": null,
   "metadata": {},
   "outputs": [],
   "source": [
    "df.cleaning_fee"
   ]
  },
  {
   "cell_type": "code",
   "execution_count": null,
   "metadata": {},
   "outputs": [],
   "source": []
  },
  {
   "cell_type": "code",
   "execution_count": null,
   "metadata": {},
   "outputs": [],
   "source": [
    "df"
   ]
  },
  {
   "cell_type": "code",
   "execution_count": null,
   "metadata": {},
   "outputs": [],
   "source": [
    "#function for locking a dataset \n",
    "# column its a string\n",
    "#argument is a list \n",
    "\n",
    "\n",
    "def lock_data(column, argument):\n",
    "    d=pd.concat([df.loc[df[column]==i] for i in argument])\n",
    "    return d"
   ]
  },
  {
   "cell_type": "code",
   "execution_count": null,
   "metadata": {},
   "outputs": [],
   "source": [
    "df=lock_data('room_type', ['Entire home/apt'])"
   ]
  },
  {
   "cell_type": "code",
   "execution_count": null,
   "metadata": {},
   "outputs": [],
   "source": [
    "df"
   ]
  },
  {
   "cell_type": "code",
   "execution_count": null,
   "metadata": {},
   "outputs": [],
   "source": [
    "# find the the mean for each neighborhood\n",
    "\n",
    "df_mean=df.groupby('neighbourhood_cleansed').agg({'price': 'median', 'id' : 'count'})\n",
    "df_mean"
   ]
  },
  {
   "cell_type": "code",
   "execution_count": null,
   "metadata": {},
   "outputs": [],
   "source": [
    "df=pd.merge(df, df_mean, on='neighbourhood_cleansed', how='left')"
   ]
  },
  {
   "cell_type": "code",
   "execution_count": null,
   "metadata": {},
   "outputs": [],
   "source": [
    "df['host_is_superhost'].value_counts()"
   ]
  },
  {
   "cell_type": "code",
   "execution_count": null,
   "metadata": {},
   "outputs": [],
   "source": [
    "df['host_is_superhost'].loc[df['host_is_superhost'] == 't'] = 1 \n",
    "df['host_is_superhost'].loc[df['host_is_superhost'] != 1] = 0 "
   ]
  },
  {
   "cell_type": "code",
   "execution_count": null,
   "metadata": {},
   "outputs": [],
   "source": [
    "df['host_is_superhost'].value_counts()"
   ]
  },
  {
   "cell_type": "code",
   "execution_count": null,
   "metadata": {},
   "outputs": [],
   "source": [
    "# dummies variables 0 when host is abroad\n",
    "\n",
    "df['foreign_host']=~df['host_location'].str.contains('Germany|DE|Deutschland', na=True ,regex=True)\n",
    "df['foreign_host']=df['foreign_host'].astype(int)\n"
   ]
  },
  {
   "cell_type": "code",
   "execution_count": null,
   "metadata": {},
   "outputs": [],
   "source": [
    "\n",
    "df['foreign_host']"
   ]
  },
  {
   "cell_type": "code",
   "execution_count": null,
   "metadata": {},
   "outputs": [],
   "source": [
    "df['foreign_host'].dtype"
   ]
  },
  {
   "cell_type": "code",
   "execution_count": null,
   "metadata": {},
   "outputs": [],
   "source": []
  },
  {
   "cell_type": "code",
   "execution_count": null,
   "metadata": {},
   "outputs": [],
   "source": [
    "from sklearn.cluster import KMeans"
   ]
  },
  {
   "cell_type": "code",
   "execution_count": null,
   "metadata": {},
   "outputs": [],
   "source": [
    "X = df[[\"latitude\", \"longitude\",'calculated_host_listings_count']]\n",
    "        #,'price','number_of_reviews']]\n"
   ]
  },
  {
   "cell_type": "code",
   "execution_count": null,
   "metadata": {},
   "outputs": [],
   "source": [
    "inertias = {}\n",
    "\n",
    "for k in range(1,15):\n",
    "    cl = KMeans(n_clusters=k).fit(X)\n",
    "    inertias[k] = cl.inertia_\n",
    "plt.figure(figsize=(15,6))\n",
    "sns.lineplot(x=list(inertias.keys()),\n",
    "             y=list(inertias.values()));\n",
    "plt.title(\"Optimal number of clusters\");"
   ]
  },
  {
   "cell_type": "code",
   "execution_count": null,
   "metadata": {},
   "outputs": [],
   "source": [
    "## model\n",
    "\n",
    "clusters = KMeans(n_clusters=3)\n",
    "clusters.fit(X)\n",
    "data_cluster=X.assign(cluster=clusters.predict(X))\n",
    "data_cluster"
   ]
  },
  {
   "cell_type": "code",
   "execution_count": null,
   "metadata": {},
   "outputs": [],
   "source": [
    "sns.scatterplot(data=X,\n",
    "                x=\"longitude\",\n",
    "                y=\"latitude\", \n",
    "                hue=clusters.predict(X));"
   ]
  },
  {
   "cell_type": "code",
   "execution_count": null,
   "metadata": {},
   "outputs": [],
   "source": [
    "df=pd.concat([df, data_cluster['cluster'].astype(str)], axis=1)"
   ]
  },
  {
   "cell_type": "code",
   "execution_count": null,
   "metadata": {},
   "outputs": [],
   "source": [
    "df"
   ]
  },
  {
   "cell_type": "code",
   "execution_count": null,
   "metadata": {},
   "outputs": [],
   "source": []
  },
  {
   "cell_type": "code",
   "execution_count": null,
   "metadata": {},
   "outputs": [],
   "source": []
  },
  {
   "cell_type": "code",
   "execution_count": null,
   "metadata": {},
   "outputs": [],
   "source": [
    "import plotly.express as px\n",
    "\n",
    "fig = px.scatter_mapbox(df, lat=\"latitude\", lon=\"longitude\", color=clusters.predict(X).astype(str),\n",
    "                        hover_name=\"host_name\",\n",
    "                        hover_data=[\"host_id\",\"calculated_host_listings_count\",'neighbourhood_cleansed',\n",
    "                                    \"number_of_reviews\", 'price_x','price_y','foreign_host'],\n",
    "                        #size='foreign_host',\n",
    "                        color_discrete_sequence=[\"orange\",\"blue\",'black', 'pink'],\n",
    "                        zoom=10, height=500)\n",
    "fig.update_layout(mapbox_style=\"open-street-map\")\n",
    "fig.update_layout(margin={\"r\":0,\"t\":0,\"l\":0,\"b\":0})\n",
    "fig.show()\n",
    "fig.write_html(\"../Final/big_players2.html\")"
   ]
  },
  {
   "cell_type": "code",
   "execution_count": null,
   "metadata": {},
   "outputs": [],
   "source": [
    "df= df.merge(pd.get_dummies(df.cluster, prefix='group_investor', prefix_sep='_',drop_first=True),\n",
    "              left_index=True,\n",
    "              right_index=True)"
   ]
  },
  {
   "cell_type": "code",
   "execution_count": null,
   "metadata": {},
   "outputs": [],
   "source": [
    "fig, ax = plt.subplots(nrows=1,\n",
    "                       ncols=3,\n",
    "                       figsize=(18,6));\n",
    "\n",
    "sns.distplot(df[\"price_x\"],\n",
    "             ax=ax[0]);\n",
    "ax[0].set_title(\"price\");\n",
    "\n",
    "sns.distplot(df[\"reviews_per_month\"],\n",
    "             ax=ax[1]);\n",
    "ax[1].set_title(\"reviews_per_month\");\n",
    "\n",
    "sns.distplot(df[\"review_scores_location\"],\n",
    "             ax=ax[2]);\n",
    "ax[2].set_title(\"review_scores_location\");"
   ]
  },
  {
   "cell_type": "code",
   "execution_count": null,
   "metadata": {},
   "outputs": [],
   "source": [
    "fig, ax = plt.subplots(nrows=1,\n",
    "                       ncols=3,\n",
    "                       figsize=(18,6));\n",
    "\n",
    "sns.distplot(df[\"availability_30\"],\n",
    "             ax=ax[0]);\n",
    "ax[0].set_title(\"availability_30\");\n",
    "\n",
    "sns.distplot(df[\"availability_60\"],\n",
    "             ax=ax[1]);\n",
    "ax[1].set_title(\"availability_60\");\n",
    "\n",
    "sns.distplot(df[\"availability_90\"],\n",
    "             ax=ax[2]);\n",
    "ax[2].set_title(\"availability_90\");"
   ]
  },
  {
   "cell_type": "code",
   "execution_count": null,
   "metadata": {},
   "outputs": [],
   "source": [
    "#Create a dataset for cluster and try to find the hotspots\n",
    "\n",
    "\n",
    "super_cluster=df[['id_x','neighbourhood_cleansed','review_scores_location', 'foreign_host',\n",
    "                'host_location','host_is_superhost','price_x','cleaning_fee',\n",
    "                'minimum_maximum_nights','availability_30','availability_60','availability_90',\n",
    "                'number_of_reviews_ltm','calculated_host_listings_count','group_investor_1','group_investor_2']]\n",
    "super_cluster"
   ]
  },
  {
   "cell_type": "code",
   "execution_count": null,
   "metadata": {},
   "outputs": [],
   "source": [
    "super_cluster=super_cluster.assign(total_price=super_cluster.price_x+super_cluster.cleaning_fee)"
   ]
  },
  {
   "cell_type": "code",
   "execution_count": null,
   "metadata": {},
   "outputs": [],
   "source": [
    "super_cluster =super_cluster.groupby('neighbourhood_cleansed', as_index=False).agg({'total_price': 'median', 'id_x' : 'count', \n",
    "                                                                                     'review_scores_location':'mean','foreign_host': sum,\n",
    "                                                     'availability_30':'mean','availability_60':'mean',\n",
    "                                                     'availability_90':'mean', 'number_of_reviews_ltm': 'mean',\n",
    "                                                     'calculated_host_listings_count':'mean',\n",
    "                                                    'group_investor_1':sum,'group_investor_2':sum })\n",
    "\n",
    "super_cluster"
   ]
  },
  {
   "cell_type": "code",
   "execution_count": null,
   "metadata": {},
   "outputs": [],
   "source": [
    "the_X = super_cluster[['total_price','id_x','review_scores_location','foreign_host',\n",
    "                        'number_of_reviews_ltm','calculated_host_listings_count','group_investor_1','group_investor_2']]\n"
   ]
  },
  {
   "cell_type": "code",
   "execution_count": null,
   "metadata": {},
   "outputs": [],
   "source": [
    "inertias = {}\n",
    "\n",
    "for k in range(1,25):\n",
    "    cl = KMeans(n_clusters=k).fit(the_X)\n",
    "    inertias[k] = cl.inertia_\n",
    "plt.figure(figsize=(15,6))\n",
    "sns.lineplot(x=list(inertias.keys()),\n",
    "             y=list(inertias.values()));\n",
    "plt.title(\"Optimal number of clusters\");"
   ]
  },
  {
   "cell_type": "code",
   "execution_count": null,
   "metadata": {},
   "outputs": [],
   "source": [
    "\n",
    "clusters = KMeans(n_clusters=3)\n",
    "clusters.fit(the_X)\n",
    "super_cluster=super_cluster.assign(cluster=clusters.predict(the_X))\n",
    "super_cluster\n",
    "\n"
   ]
  },
  {
   "cell_type": "code",
   "execution_count": null,
   "metadata": {},
   "outputs": [],
   "source": [
    "super_cluster.loc[super_cluster.cluster==4]"
   ]
  },
  {
   "cell_type": "code",
   "execution_count": null,
   "metadata": {},
   "outputs": [],
   "source": [
    "super_cluster.loc[super_cluster.cluster==3]"
   ]
  },
  {
   "cell_type": "code",
   "execution_count": null,
   "metadata": {},
   "outputs": [],
   "source": [
    "super_cluster.loc[super_cluster.cluster==2]"
   ]
  },
  {
   "cell_type": "code",
   "execution_count": null,
   "metadata": {},
   "outputs": [],
   "source": [
    "super_cluster.loc[super_cluster.cluster==1]"
   ]
  },
  {
   "cell_type": "code",
   "execution_count": null,
   "metadata": {},
   "outputs": [],
   "source": [
    "super_cluster.loc[super_cluster.cluster==0]"
   ]
  },
  {
   "cell_type": "code",
   "execution_count": null,
   "metadata": {},
   "outputs": [],
   "source": [
    "super_cluster.rename(columns = {'neighbourhood_cleansed':'neighbourhood'}, inplace = True)"
   ]
  },
  {
   "cell_type": "code",
   "execution_count": null,
   "metadata": {},
   "outputs": [],
   "source": [
    "super_cluster"
   ]
  },
  {
   "cell_type": "code",
   "execution_count": null,
   "metadata": {},
   "outputs": [],
   "source": [
    "import json\n",
    "\n",
    "with open('berlin-neighbourhoods.geojson',encoding=\"utf-8\") as json_file:\n",
    "    data = json.load(json_file)"
   ]
  },
  {
   "cell_type": "code",
   "execution_count": null,
   "metadata": {},
   "outputs": [],
   "source": [
    "import plotly.express as px\n",
    "\n",
    "fig = px.choropleth_mapbox(super_cluster, geojson=data, locations='neighbourhood', \n",
    "                           featureidkey=\"properties.neighbourhood\", color=super_cluster.cluster.astype(str),\n",
    "                                        \n",
    "                           mapbox_style=\"carto-positron\",\n",
    "                           zoom=10, center = {\"lat\": 52.5, \"lon\": 13.4},\n",
    "                           opacity=0.5\n",
    "                          )\n",
    "fig.update_layout(margin={\"r\":0,\"t\":0,\"l\":0,\"b\":0})\n",
    "fig.show()\n",
    "fig.write_html(\"../Final/cluster_airbnb_hotspot.html\")"
   ]
  },
  {
   "cell_type": "code",
   "execution_count": null,
   "metadata": {},
   "outputs": [],
   "source": [
    "(super_cluster[['total_price','id_x','review_scores_location','foreign_host','number_of_reviews_ltm',\n",
    "                'calculated_host_listings_count',\n",
    "               'group_investor_1','group_investor_2','cluster']]\n",
    "                 .groupby(\"cluster\").describe().transpose())"
   ]
  },
  {
   "cell_type": "code",
   "execution_count": null,
   "metadata": {},
   "outputs": [],
   "source": []
  },
  {
   "cell_type": "code",
   "execution_count": null,
   "metadata": {},
   "outputs": [],
   "source": [
    "len(data)"
   ]
  },
  {
   "cell_type": "code",
   "execution_count": null,
   "metadata": {},
   "outputs": [],
   "source": [
    "data['features'][0]"
   ]
  },
  {
   "cell_type": "code",
   "execution_count": null,
   "metadata": {},
   "outputs": [],
   "source": [
    "import geopandas as gpd"
   ]
  },
  {
   "cell_type": "code",
   "execution_count": null,
   "metadata": {},
   "outputs": [],
   "source": []
  }
 ],
 "metadata": {
  "kernelspec": {
   "display_name": "Python 3",
   "language": "python",
   "name": "python3"
  },
  "language_info": {
   "codemirror_mode": {
    "name": "ipython",
    "version": 3
   },
   "file_extension": ".py",
   "mimetype": "text/x-python",
   "name": "python",
   "nbconvert_exporter": "python",
   "pygments_lexer": "ipython3",
   "version": "3.8.3"
  }
 },
 "nbformat": 4,
 "nbformat_minor": 4
}
