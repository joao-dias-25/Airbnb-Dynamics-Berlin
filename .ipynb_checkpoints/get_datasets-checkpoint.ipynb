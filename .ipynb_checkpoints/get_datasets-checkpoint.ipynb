{
 "cells": [
  {
   "cell_type": "code",
   "execution_count": 3,
   "metadata": {},
   "outputs": [],
   "source": [
    "import requests\n",
    "import datetime\n",
    "import os\n",
    "\n",
    "import pandas as pd\n",
    "\n",
    "import gzip\n",
    "import shutil\n",
    "\n"
   ]
  },
  {
   "cell_type": "code",
   "execution_count": 7,
   "metadata": {},
   "outputs": [],
   "source": [
    "##Berlin\n",
    "\n",
    "dates=['2020-08-30','2020-06-13', '2020-05-14','2020-04-17','2020-03-17','2020-02-18','2020-01-10',\n",
    "      '2019-12-11','2019-11-12','2019-10-16','2019-09-19','2019-08-12','2019-07-11','2019-06-08']\n",
    "\n",
    "\n",
    "dates2=['2019-05-14','2019-04-11','2019-03-08','2019-02-06','2019-01-14','2018-12-10','2018-11-07',\n",
    "       '2018-10-10','2018-09-12','2018-08-14','2018-07-10','2018-06-09','2018-05-14','2018-04-12']\n",
    "\n",
    "dates3=['2017-05-08','2017-04-08','2017-03-06','2017-02-10','2017-01-06','2016-12-08','2016-11-07',\n",
    "       '2016-10-04','2016-09-05','2016-08-04','2016-07-05','2016-06-03','2016-05-03','2016-04-04']\n",
    "\n",
    "dates4=['2016-02-04','2016-01-04', '2015-12-05','2015-11-08','2015-10-03']\n",
    "\n",
    "\n",
    "#example\n",
    "#http://data.insideairbnb.com/germany/be/berlin/2020-08-30/data/listings.csv.gz\n",
    "# http://data.insideairbnb.com/germany/be/berlin/2020-06-13/data/listings.csv.gz"
   ]
  },
  {
   "cell_type": "code",
   "execution_count": 5,
   "metadata": {},
   "outputs": [],
   "source": [
    "# function to extract .csv files imputing a list\n",
    "def csv_airdata_import(date_list):\n",
    "    \n",
    "    #create a folder for the city\n",
    "    #os.mkdir('../Final/Berlin')\n",
    "    \n",
    "    # loop over the dates to get the diferent .csv \n",
    "    for date in date_list:\n",
    "        url =f\"http://data.insideairbnb.com/germany/be/berlin/{date}/data/listings.csv.gz\"\n",
    "        response = requests.get(url)\n",
    "\n",
    "        #retrieving data from the URL using get method\n",
    "        with open(os.path.join('../Final/Berlin', f\"{date}_listings.csv.gz\"), 'wb') as f:\n",
    "            f.write(response.content)\n",
    "        with gzip.open(f\"../Final/Berlin/{date}_listings.csv.gz\", 'rb') as f_in:\n",
    "            with open(os.path.join('../Final/Berlin', f\"{date}_listings.csv\"), 'wb') as f_out:\n",
    "                shutil.copyfileobj(f_in, f_out)\n",
    "            "
   ]
  },
  {
   "cell_type": "code",
   "execution_count": 9,
   "metadata": {},
   "outputs": [],
   "source": [
    "csv_airdata_import(dates4)"
   ]
  },
  {
   "cell_type": "code",
   "execution_count": null,
   "metadata": {},
   "outputs": [],
   "source": []
  }
 ],
 "metadata": {
  "kernelspec": {
   "display_name": "Python 3",
   "language": "python",
   "name": "python3"
  },
  "language_info": {
   "codemirror_mode": {
    "name": "ipython",
    "version": 3
   },
   "file_extension": ".py",
   "mimetype": "text/x-python",
   "name": "python",
   "nbconvert_exporter": "python",
   "pygments_lexer": "ipython3",
   "version": "3.7.9"
  }
 },
 "nbformat": 4,
 "nbformat_minor": 4
}
