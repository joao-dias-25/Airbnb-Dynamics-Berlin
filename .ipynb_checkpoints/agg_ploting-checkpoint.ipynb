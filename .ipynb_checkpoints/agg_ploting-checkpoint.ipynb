{
 "cells": [
  {
   "cell_type": "code",
   "execution_count": null,
   "metadata": {},
   "outputs": [],
   "source": [
    "import pandas as pd\n",
    "import numpy as np\n",
    "import matplotlib.pyplot as plt\n",
    "import plotly.express as px\n",
    "import seaborn as sns"
   ]
  },
  {
   "cell_type": "code",
   "execution_count": null,
   "metadata": {},
   "outputs": [],
   "source": [
    "# Entire_home_apt.csv\n",
    "# id_neighbordhood_date.csv\n",
    "\n",
    "df=pd.read_csv('../Final/Berlin/merge_data_files/Entire_home_apt_5y.csv' ,low_memory=False,index_col=0) \n",
    "df"
   ]
  },
  {
   "cell_type": "code",
   "execution_count": null,
   "metadata": {},
   "outputs": [],
   "source": [
    "\n",
    "df.loc[df.date=='2020-05-14'].host_id.nunique()"
   ]
  },
  {
   "cell_type": "code",
   "execution_count": null,
   "metadata": {},
   "outputs": [],
   "source": [
    "#find the top 20 districts\n",
    "\n",
    "top15=df.loc[df.date=='2020-05-14']['neighbourhood_cleansed'].value_counts()[:15].index.tolist()\n",
    "top15"
   ]
  },
  {
   "cell_type": "code",
   "execution_count": null,
   "metadata": {},
   "outputs": [],
   "source": [
    "df2=df.groupby(['neighbourhood_cleansed','date'],as_index=False).count()[['neighbourhood_cleansed','date','id']]"
   ]
  },
  {
   "cell_type": "code",
   "execution_count": null,
   "metadata": {},
   "outputs": [],
   "source": [
    "df2=df2.sort_values(by=['id'], ascending=False)\n",
    "df2.date = pd.to_datetime(df2.date, format='%Y-%m-%d')"
   ]
  },
  {
   "cell_type": "code",
   "execution_count": null,
   "metadata": {},
   "outputs": [],
   "source": [
    "df2.dtypes"
   ]
  },
  {
   "cell_type": "code",
   "execution_count": null,
   "metadata": {},
   "outputs": [],
   "source": []
  },
  {
   "cell_type": "code",
   "execution_count": null,
   "metadata": {},
   "outputs": [],
   "source": [
    "toplot=df2.loc[df2['neighbourhood_cleansed'].isin(top15)]\n",
    "\n",
    "plt.figure(figsize=(15, 10)) \n",
    "\n",
    "sns.lineplot(data=toplot, x=\"date\", y=\"id\", hue=\"neighbourhood_cleansed\")"
   ]
  },
  {
   "cell_type": "code",
   "execution_count": null,
   "metadata": {},
   "outputs": [],
   "source": []
  },
  {
   "cell_type": "code",
   "execution_count": null,
   "metadata": {},
   "outputs": [],
   "source": [
    "#find the top 20 hots\n",
    "\n",
    "top20=df.loc[df.date=='2020-05-14']['host_id'].value_counts()[:30].index.tolist()\n",
    "top20"
   ]
  },
  {
   "cell_type": "code",
   "execution_count": null,
   "metadata": {},
   "outputs": [],
   "source": [
    "df3=df.groupby(['host_id','date'],as_index=False).count()[['host_id','date','id']]"
   ]
  },
  {
   "cell_type": "code",
   "execution_count": null,
   "metadata": {},
   "outputs": [],
   "source": [
    "df3=df3.sort_values(by=['id'], ascending=False)\n",
    "df3.date = pd.to_datetime(df3.date, format='%Y-%m-%d')"
   ]
  },
  {
   "cell_type": "code",
   "execution_count": null,
   "metadata": {},
   "outputs": [],
   "source": [
    "toplot=df3.loc[df3['host_id'].isin(top20)]"
   ]
  },
  {
   "cell_type": "code",
   "execution_count": null,
   "metadata": {},
   "outputs": [],
   "source": [
    "toplot"
   ]
  },
  {
   "cell_type": "code",
   "execution_count": null,
   "metadata": {},
   "outputs": [],
   "source": [
    "toplot=df3.loc[df3['host_id'].isin(top20)]\n",
    "\n",
    "plt.figure(figsize=(15, 10)) \n",
    "\n",
    "\n",
    "\n",
    "sns.lineplot(data=toplot, x=\"date\", y=\"id\", hue='host_id', markers=True, dashes=False)"
   ]
  },
  {
   "cell_type": "code",
   "execution_count": null,
   "metadata": {},
   "outputs": [],
   "source": [
    "toplot=df3.copy()\n",
    "\n",
    "bins = [0,1,2,4,8,16,260]\n",
    "\n",
    "toplot['binned'] = pd.cut(toplot['id'], bins)\n",
    "\n",
    "\n",
    "\n",
    "toplot"
   ]
  },
  {
   "cell_type": "code",
   "execution_count": null,
   "metadata": {},
   "outputs": [],
   "source": [
    "df['binned_calc']=pd.cut(df['calculated_host_listings_count'], bins)"
   ]
  },
  {
   "cell_type": "code",
   "execution_count": null,
   "metadata": {},
   "outputs": [],
   "source": [
    "df['binned_calc']=df['binned_calc'].astype(str)"
   ]
  },
  {
   "cell_type": "code",
   "execution_count": null,
   "metadata": {},
   "outputs": [],
   "source": [
    "pie_5=df.groupby(['binned_calc','date'],as_index=False).count()[['binned_calc','date','id']]"
   ]
  },
  {
   "cell_type": "code",
   "execution_count": null,
   "metadata": {},
   "outputs": [],
   "source": [
    "pie_5.date"
   ]
  },
  {
   "cell_type": "code",
   "execution_count": null,
   "metadata": {},
   "outputs": [],
   "source": [
    "pie_5.loc[pie_5.date=='2016-05-03']"
   ]
  },
  {
   "cell_type": "code",
   "execution_count": null,
   "metadata": {},
   "outputs": [],
   "source": [
    "import plotly.graph_objects as go\n",
    "from plotly.subplots import make_subplots\n",
    "\n",
    "\n",
    "\n",
    "fig = make_subplots(rows=3, cols=2, specs=[[{'type':'domain'}, {'type':'domain'}],\n",
    "                                           [{'type':'domain'}, {'type':'domain'}],\n",
    "                                          [{'type':'domain'}, {'type':'domain'}]],\n",
    "                    subplot_titles=['2016', '2017', '2018','2019','2020'])\n",
    "fig.add_trace(go.Pie(labels=pie_5.loc[pie_5.date=='2016-05-03'].binned_calc, \n",
    "                     values=pie_5.loc[pie_5.date=='2016-05-03'].id, scalegroup='one',\n",
    "                     name=\"2016\"), 1, 1)\n",
    "fig.add_trace(go.Pie(labels=pie_5.loc[pie_5.date=='2017-05-08'].binned_calc, \n",
    "                     values=pie_5.loc[pie_5.date=='2017-05-08'].id, scalegroup='one',\n",
    "                     name=\"2017\"), 1, 2)\n",
    "fig.add_trace(go.Pie(labels=pie_5.loc[pie_5.date=='2018-05-14'].binned_calc, \n",
    "                     values=pie_5.loc[pie_5.date=='2018-05-14'].id, scalegroup='one',\n",
    "                     name=\"2018\"), 2, 1)\n",
    "fig.add_trace(go.Pie(labels=pie_5.loc[pie_5.date=='2019-05-14'].binned_calc, \n",
    "                     values=pie_5.loc[pie_5.date=='2019-05-14'].id, scalegroup='one',\n",
    "                     name=\"2019\"), 2, 2)\n",
    "fig.add_trace(go.Pie(labels=pie_5.loc[pie_5.date=='2020-05-14'].binned_calc, \n",
    "                     values=pie_5.loc[pie_5.date=='2020-05-14'].id, scalegroup='one',\n",
    "                     name=\"2020\"), 3, 1)\n",
    "\n",
    "fig.update_layout(\n",
    "    margin=dict(l=0, r=0, t=0, b=0), height=800\n",
    ")\n",
    "\n",
    "fig.update_layout(title_text='Multiple flat host evolution')\n",
    "fig.show()\n",
    "fig.write_html(\"../Final/Pie_chart_5years.html\")"
   ]
  },
  {
   "cell_type": "code",
   "execution_count": null,
   "metadata": {},
   "outputs": [],
   "source": []
  },
  {
   "cell_type": "code",
   "execution_count": null,
   "metadata": {},
   "outputs": [],
   "source": [
    "# count the multiple host listings\n",
    "plot=toplot.groupby(['binned','date'],as_index=False).count()"
   ]
  },
  {
   "cell_type": "code",
   "execution_count": null,
   "metadata": {},
   "outputs": [],
   "source": [
    "fig = px.bar(plot, x='date', y='id', labels = {\"value\": \"count\", \"variable\": \"medal\"},\n",
    "             color='binned', \n",
    "            title='Number of hosts with multiple listings_only_apts')\n",
    "fig.show()\n",
    "fig.write_html(\"../Final/multipleL_host_5years.html\")"
   ]
  },
  {
   "cell_type": "markdown",
   "metadata": {},
   "source": [
    "# plot the multiple flat hosts over time on map"
   ]
  },
  {
   "cell_type": "code",
   "execution_count": null,
   "metadata": {},
   "outputs": [],
   "source": [
    "#toplot.loc[\n",
    "toplot['binned']=toplot['binned'].astype(str)\n"
   ]
  },
  {
   "cell_type": "code",
   "execution_count": null,
   "metadata": {},
   "outputs": [],
   "source": [
    "data2=toplot.loc[toplot['binned'].isin(['(2, 4]','(4, 8]','(8, 16]','(16, 260]'])][['date','host_id','binned']]"
   ]
  },
  {
   "cell_type": "code",
   "execution_count": null,
   "metadata": {},
   "outputs": [],
   "source": [
    "df.dtypes"
   ]
  },
  {
   "cell_type": "code",
   "execution_count": null,
   "metadata": {},
   "outputs": [],
   "source": [
    "df.date = pd.to_datetime(df.date, format='%Y-%m-%d')"
   ]
  },
  {
   "cell_type": "code",
   "execution_count": null,
   "metadata": {},
   "outputs": [],
   "source": [
    "data2.dtypes"
   ]
  },
  {
   "cell_type": "code",
   "execution_count": null,
   "metadata": {},
   "outputs": [],
   "source": [
    "data=pd.merge(df, data2,  how='left',  on=['host_id','date'])\n"
   ]
  },
  {
   "cell_type": "code",
   "execution_count": null,
   "metadata": {},
   "outputs": [],
   "source": [
    "# clean data for ploting\n",
    "#df=data.loc[data.binned.notnull()]\n",
    "df.date=df.date.apply(lambda x: x.strftime('%Y-%m'))"
   ]
  },
  {
   "cell_type": "code",
   "execution_count": null,
   "metadata": {},
   "outputs": [],
   "source": [
    "import plotly.figure_factory as ff\n",
    "\n",
    "# it needs a token for access mapbox\n",
    "px.set_mapbox_access_token('pk.eyJ1Ijoiam9obnppbnoiLCJhIjoiY2tmbWthazZ6MDNueDJxb2ZyZ2M3czU0dyJ9.Bl3T4kl14xan7glGxid_Rw')\n",
    "\n",
    "\n",
    "lat = df['latitude']\n",
    "lon = df['longitude']\n",
    "frame = df['date']\n",
    "\n",
    "fig = ff.create_hexbin_mapbox(\n",
    "    lat=lat, lon=lon, nx_hexagon=60, animation_frame=frame,\n",
    "    color_continuous_scale=\"Viridis\", labels={\"color\": \"Airbnb listings > 50\", \"frame\": \"Period\"},\n",
    "    opacity=0.5, min_count=50, height=500, zoom=10,\n",
    "    show_original_data=True, original_data_marker=dict(opacity=0.4, size=3, color=\"blue\"))\n",
    "fig.update_layout(title={'text': \"density spots\"})\n",
    "fig.update_layout(margin={\"r\":0,\"t\":30,\"l\":0,\"b\":0})\n",
    "fig.show()\n",
    "\n",
    "# write to an html file\n",
    "fig.write_html(\"../Final/hives_for_density.html\")"
   ]
  },
  {
   "cell_type": "code",
   "execution_count": null,
   "metadata": {},
   "outputs": [],
   "source": []
  },
  {
   "cell_type": "code",
   "execution_count": null,
   "metadata": {},
   "outputs": [],
   "source": []
  }
 ],
 "metadata": {
  "kernelspec": {
   "display_name": "Python 3",
   "language": "python",
   "name": "python3"
  },
  "language_info": {
   "codemirror_mode": {
    "name": "ipython",
    "version": 3
   },
   "file_extension": ".py",
   "mimetype": "text/x-python",
   "name": "python",
   "nbconvert_exporter": "python",
   "pygments_lexer": "ipython3",
   "version": "3.8.3"
  }
 },
 "nbformat": 4,
 "nbformat_minor": 4
}
