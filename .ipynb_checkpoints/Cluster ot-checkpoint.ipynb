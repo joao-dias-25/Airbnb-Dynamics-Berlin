{
 "cells": [
  {
   "cell_type": "code",
   "execution_count": null,
   "metadata": {},
   "outputs": [],
   "source": [
    "import pandas as pd\n",
    "import numpy as np\n",
    "import matplotlib.pyplot as plt\n",
    "import seaborn as sns\n",
    "\n",
    "\n",
    "%matplotlib inline \n",
    "sns.set_style(\"white\")"
   ]
  },
  {
   "cell_type": "code",
   "execution_count": null,
   "metadata": {},
   "outputs": [],
   "source": [
    "## select the dataset\n",
    "df=pd.read_csv('../Final/Berlin/merge_data_files/Entire_home_apt_5y.csv' ,low_memory=False,index_col=0) \n"
   ]
  },
  {
   "cell_type": "code",
   "execution_count": null,
   "metadata": {},
   "outputs": [],
   "source": [
    "# Listings segmentation using K-Means Clustering\n"
   ]
  },
  {
   "cell_type": "code",
   "execution_count": null,
   "metadata": {},
   "outputs": [],
   "source": [
    "pd.set_option(\"display.max_columns\", 30) \n",
    "df.head()"
   ]
  },
  {
   "cell_type": "code",
   "execution_count": null,
   "metadata": {},
   "outputs": [],
   "source": [
    "pd.get_option(\"display.max_rows\")\n",
    "df.isnull().sum()"
   ]
  },
  {
   "cell_type": "code",
   "execution_count": null,
   "metadata": {},
   "outputs": [],
   "source": [
    "pd.set_option(\"display.max_rows\", 80) \n",
    "df.nunique()"
   ]
  },
  {
   "cell_type": "code",
   "execution_count": null,
   "metadata": {},
   "outputs": [],
   "source": [
    "df.price"
   ]
  },
  {
   "cell_type": "code",
   "execution_count": null,
   "metadata": {},
   "outputs": [],
   "source": [
    "\n"
   ]
  },
  {
   "cell_type": "code",
   "execution_count": null,
   "metadata": {},
   "outputs": [],
   "source": []
  },
  {
   "cell_type": "code",
   "execution_count": null,
   "metadata": {},
   "outputs": [],
   "source": []
  },
  {
   "cell_type": "code",
   "execution_count": null,
   "metadata": {},
   "outputs": [],
   "source": []
  },
  {
   "cell_type": "code",
   "execution_count": null,
   "metadata": {},
   "outputs": [],
   "source": []
  },
  {
   "cell_type": "code",
   "execution_count": null,
   "metadata": {},
   "outputs": [],
   "source": []
  },
  {
   "cell_type": "code",
   "execution_count": null,
   "metadata": {},
   "outputs": [],
   "source": []
  },
  {
   "cell_type": "code",
   "execution_count": null,
   "metadata": {},
   "outputs": [],
   "source": []
  },
  {
   "cell_type": "code",
   "execution_count": null,
   "metadata": {},
   "outputs": [],
   "source": [
    "df"
   ]
  },
  {
   "cell_type": "code",
   "execution_count": null,
   "metadata": {},
   "outputs": [],
   "source": [
    "df.date=pd.to_datetime(df.date).dt.to_period('Y').astype(int)"
   ]
  },
  {
   "cell_type": "code",
   "execution_count": null,
   "metadata": {},
   "outputs": [],
   "source": [
    "df"
   ]
  },
  {
   "cell_type": "code",
   "execution_count": null,
   "metadata": {},
   "outputs": [],
   "source": []
  },
  {
   "cell_type": "code",
   "execution_count": null,
   "metadata": {},
   "outputs": [],
   "source": [
    "df.columns"
   ]
  },
  {
   "cell_type": "code",
   "execution_count": null,
   "metadata": {},
   "outputs": [],
   "source": [
    "from sklearn.cluster import KMeans"
   ]
  },
  {
   "cell_type": "code",
   "execution_count": null,
   "metadata": {},
   "outputs": [],
   "source": [
    "X = df[[\"latitude\", \"longitude\", 'calculated_host_listings_count']]\n",
    "        #,'price','number_of_reviews']]\n"
   ]
  },
  {
   "cell_type": "code",
   "execution_count": null,
   "metadata": {},
   "outputs": [],
   "source": [
    "# dont run\n",
    "inertias = {}\n",
    "\n",
    "for k in range(1,15):\n",
    "    cl = KMeans(n_clusters=k).fit(X)\n",
    "    inertias[k] = cl.inertia_\n",
    "plt.figure(figsize=(15,6))\n",
    "sns.lineplot(x=list(inertias.keys()),\n",
    "             y=list(inertias.values()));\n",
    "plt.title(\"Optimal number of clusters\");"
   ]
  },
  {
   "cell_type": "code",
   "execution_count": null,
   "metadata": {},
   "outputs": [],
   "source": [
    "## model\n",
    "\n",
    "clusters = KMeans(n_clusters=3)\n",
    "clusters.fit(X)\n",
    "data_cluster=X.assign(cluster=clusters.predict(X))\n",
    "data_cluster"
   ]
  },
  {
   "cell_type": "code",
   "execution_count": null,
   "metadata": {},
   "outputs": [],
   "source": [
    "sns.scatterplot(data=X,\n",
    "                x=\"longitude\",\n",
    "                y=\"latitude\", \n",
    "                hue=clusters.predict(X));"
   ]
  },
  {
   "cell_type": "code",
   "execution_count": null,
   "metadata": {},
   "outputs": [],
   "source": []
  },
  {
   "cell_type": "code",
   "execution_count": null,
   "metadata": {},
   "outputs": [],
   "source": [
    "df=pd.concat([df, data_cluster['cluster'].astype(str)], axis=1)"
   ]
  },
  {
   "cell_type": "code",
   "execution_count": null,
   "metadata": {},
   "outputs": [],
   "source": [
    "# dummies variables 0 when host is abroad\n",
    "\n",
    "df['foreign_host']=~df['host_location'].str.contains('Germany|DE|Deutschland', na=True ,regex=True)\n",
    "df['foreign_host']=df['foreign_host'].astype(int)"
   ]
  },
  {
   "cell_type": "code",
   "execution_count": null,
   "metadata": {},
   "outputs": [],
   "source": []
  },
  {
   "cell_type": "code",
   "execution_count": null,
   "metadata": {},
   "outputs": [],
   "source": []
  },
  {
   "cell_type": "code",
   "execution_count": null,
   "metadata": {},
   "outputs": [],
   "source": [
    "import plotly.express as px\n",
    "\n",
    "fig = px.scatter_mapbox(df, lat=\"latitude\", lon=\"longitude\", color='cluster',\n",
    "                        \n",
    "                        hover_name=\"host_name\",\n",
    "                        hover_data=['listing_url',\"host_id\",\"calculated_host_listings_count\",'neighbourhood_cleansed',\n",
    "                                    'price'],\n",
    "                        color_discrete_sequence=['blue','black','orange'],\n",
    "                       \n",
    "                        animation_frame=\"date\",\n",
    "                        zoom=10, height=500)\n",
    "fig.update_layout(mapbox_style=\"open-street-map\")\n",
    "fig.update_layout(margin={\"r\":0,\"t\":0,\"l\":0,\"b\":0})\n",
    "fig.show()"
   ]
  },
  {
   "cell_type": "code",
   "execution_count": null,
   "metadata": {},
   "outputs": [],
   "source": []
  },
  {
   "cell_type": "code",
   "execution_count": null,
   "metadata": {},
   "outputs": [],
   "source": []
  },
  {
   "cell_type": "code",
   "execution_count": null,
   "metadata": {},
   "outputs": [],
   "source": [
    "df= df.merge(pd.get_dummies(df.cluster, prefix='group_investor', prefix_sep='_',drop_first=True),\n",
    "              left_index=True,\n",
    "              right_index=True)"
   ]
  },
  {
   "cell_type": "code",
   "execution_count": null,
   "metadata": {},
   "outputs": [],
   "source": [
    "df"
   ]
  },
  {
   "cell_type": "code",
   "execution_count": null,
   "metadata": {},
   "outputs": [],
   "source": []
  },
  {
   "cell_type": "code",
   "execution_count": null,
   "metadata": {},
   "outputs": [],
   "source": [
    "#Create a dataset for cluster and try to find the hotspots\n",
    "\n",
    "\n",
    "super_cluster=df[['date','id_x','latitude','longitude','neighbourhood_cleansed','review_scores_location', 'foreign_host',\n",
    "                'host_location','price_x',\n",
    "                'number_of_reviews_ltm','group_investor_1','group_investor_2']]\n",
    "super_cluster"
   ]
  },
  {
   "cell_type": "code",
   "execution_count": null,
   "metadata": {},
   "outputs": [],
   "source": [
    "super_cluster.rename(columns = {'neighbourhood_cleansed':'neighbourhood'}, inplace = True)"
   ]
  },
  {
   "cell_type": "code",
   "execution_count": null,
   "metadata": {},
   "outputs": [],
   "source": [
    "super_cluster =super_cluster.groupby(['date','neighbourhood'],\n",
    "                                     as_index=False).agg({'price_x': 'median', 'id_x' : 'count', \n",
    "                                                          'review_scores_location':'mean','foreign_host': sum,\n",
    "                                                     'number_of_reviews_ltm': 'mean',\n",
    "                                                    'group_investor_1':sum,'group_investor_2':sum }).dropna()\n",
    "\n",
    "super_cluster"
   ]
  },
  {
   "cell_type": "code",
   "execution_count": null,
   "metadata": {},
   "outputs": [],
   "source": [
    "the_X = super_cluster[['price_x','id_x','review_scores_location','foreign_host',\n",
    "                        'number_of_reviews_ltm','group_investor_1','group_investor_2']]\n"
   ]
  },
  {
   "cell_type": "code",
   "execution_count": null,
   "metadata": {},
   "outputs": [],
   "source": []
  },
  {
   "cell_type": "code",
   "execution_count": null,
   "metadata": {},
   "outputs": [],
   "source": [
    "the_X.isnull().sum()"
   ]
  },
  {
   "cell_type": "code",
   "execution_count": null,
   "metadata": {},
   "outputs": [],
   "source": [
    "# dont run\n",
    "inertias = {}\n",
    "\n",
    "for k in range(1,25):\n",
    "    cl = KMeans(n_clusters=k).fit(the_X)\n",
    "    inertias[k] = cl.inertia_\n",
    "plt.figure(figsize=(15,6))\n",
    "sns.lineplot(x=list(inertias.keys()),\n",
    "             y=list(inertias.values()));\n",
    "plt.title(\"Optimal number of clusters\");"
   ]
  },
  {
   "cell_type": "code",
   "execution_count": null,
   "metadata": {},
   "outputs": [],
   "source": [
    "\n",
    "clusters = KMeans(n_clusters=3)\n",
    "clusters.fit(the_X)\n",
    "the_X =the_X.assign(cluster=clusters.predict(the_X))\n",
    "the_X \n",
    "\n"
   ]
  },
  {
   "cell_type": "code",
   "execution_count": null,
   "metadata": {},
   "outputs": [],
   "source": []
  },
  {
   "cell_type": "code",
   "execution_count": null,
   "metadata": {},
   "outputs": [],
   "source": [
    "import json\n",
    "\n",
    "with open('berlin-neighbourhoods.geojson',encoding=\"utf-8\") as json_file:\n",
    "    data = json.load(json_file)"
   ]
  },
  {
   "cell_type": "code",
   "execution_count": null,
   "metadata": {},
   "outputs": [],
   "source": []
  },
  {
   "cell_type": "code",
   "execution_count": null,
   "metadata": {},
   "outputs": [],
   "source": [
    "import plotly.express as px\n",
    "\n",
    "fig = px.choropleth_mapbox(super_cluster, geojson=data, locations='neighbourhood', \n",
    "                           featureidkey=\"properties.neighbourhood\", color=the_X.cluster.astype(str),\n",
    "                                        \n",
    "                           mapbox_style=\"carto-positron\",\n",
    "                           zoom=10, center = {\"lat\": 52.5, \"lon\": 13.4},\n",
    "                           opacity=0.5,\n",
    "                           animation_frame=\"date\"\n",
    "                          )\n",
    "fig.update_layout(margin={\"r\":0,\"t\":0,\"l\":0,\"b\":0})\n",
    "fig.show()\n",
    "fig.write_html(\"../Final/cluster_airbnb_hotspot_ot.html\")"
   ]
  },
  {
   "cell_type": "code",
   "execution_count": null,
   "metadata": {},
   "outputs": [],
   "source": []
  }
 ],
 "metadata": {
  "kernelspec": {
   "display_name": "Python 3",
   "language": "python",
   "name": "python3"
  },
  "language_info": {
   "codemirror_mode": {
    "name": "ipython",
    "version": 3
   },
   "file_extension": ".py",
   "mimetype": "text/x-python",
   "name": "python",
   "nbconvert_exporter": "python",
   "pygments_lexer": "ipython3",
   "version": "3.8.3"
  }
 },
 "nbformat": 4,
 "nbformat_minor": 4
}
