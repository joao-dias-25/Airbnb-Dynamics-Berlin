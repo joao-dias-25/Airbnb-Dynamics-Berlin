{
 "cells": [
  {
   "cell_type": "code",
   "execution_count": null,
   "metadata": {},
   "outputs": [],
   "source": [
    "import pandas as pd\n",
    "import numpy as np\n",
    "import matplotlib.pyplot as plt\n",
    "import plotly.express as px"
   ]
  },
  {
   "cell_type": "code",
   "execution_count": null,
   "metadata": {},
   "outputs": [],
   "source": [
    "df=pd.read_csv('../Final/Berlin/merge_data_files/id_neighbordhood_date.csv' ,low_memory=False,index_col=0) \n",
    "df"
   ]
  },
  {
   "cell_type": "code",
   "execution_count": null,
   "metadata": {},
   "outputs": [],
   "source": [
    "df.memory_usage()"
   ]
  },
  {
   "cell_type": "code",
   "execution_count": null,
   "metadata": {},
   "outputs": [],
   "source": [
    "df.date=pd.to_datetime(df.date).apply(lambda x: x.strftime('%Y-%m'))\n"
   ]
  },
  {
   "cell_type": "code",
   "execution_count": null,
   "metadata": {},
   "outputs": [],
   "source": [
    "df.nunique()"
   ]
  },
  {
   "cell_type": "code",
   "execution_count": null,
   "metadata": {},
   "outputs": [],
   "source": [
    "#dont run\n",
    "\n",
    "fig = px.density_contour(df, x ='longitude', y='latitude',\n",
    "                         range_x=[13.25, 13.55], range_y=[52.42, 52.58],\n",
    "                         animation_frame=\"date\", color ='room_type')\n",
    "\n",
    "fig.update_traces(contours_coloring=\"fill\", contours_showlabels = True)\n",
    "\n",
    "fig.show()"
   ]
  },
  {
   "cell_type": "code",
   "execution_count": null,
   "metadata": {},
   "outputs": [],
   "source": []
  },
  {
   "cell_type": "code",
   "execution_count": null,
   "metadata": {},
   "outputs": [],
   "source": []
  },
  {
   "cell_type": "code",
   "execution_count": null,
   "metadata": {},
   "outputs": [],
   "source": []
  },
  {
   "cell_type": "code",
   "execution_count": null,
   "metadata": {},
   "outputs": [],
   "source": [
    "import plotly.figure_factory as ff\n",
    "\n",
    "\n",
    "px.set_mapbox_access_token('pk.eyJ1Ijoiam9obnppbnoiLCJhIjoiY2tmbWthazZ6MDNueDJxb2ZyZ2M3czU0dyJ9.Bl3T4kl14xan7glGxid_Rw')\n",
    "\n",
    "\n",
    "lat = df['latitude']\n",
    "lon = df['longitude']\n",
    "frame = df['date']\n",
    "\n",
    "fig = ff.create_hexbin_mapbox(\n",
    "    lat=lat, lon=lon, nx_hexagon=60, animation_frame=frame,\n",
    "    color_continuous_scale=\"Viridis\", labels={\"color\": \"Airbnb listings > 10\", \"frame\": \"Period\"},\n",
    "    opacity=0.5, min_count=10)\n",
    "    #show_original_data=True, original_data_marker=dict(opacity=0.7, size=2, color=\"aqua\"))\n",
    "\n",
    "fig.show()"
   ]
  },
  {
   "cell_type": "code",
   "execution_count": null,
   "metadata": {},
   "outputs": [],
   "source": []
  }
 ],
 "metadata": {
  "kernelspec": {
   "display_name": "Python 3",
   "language": "python",
   "name": "python3"
  },
  "language_info": {
   "codemirror_mode": {
    "name": "ipython",
    "version": 3
   },
   "file_extension": ".py",
   "mimetype": "text/x-python",
   "name": "python",
   "nbconvert_exporter": "python",
   "pygments_lexer": "ipython3",
   "version": "3.8.3"
  }
 },
 "nbformat": 4,
 "nbformat_minor": 4
}
