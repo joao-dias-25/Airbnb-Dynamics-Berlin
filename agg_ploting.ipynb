{
 "cells": [
  {
   "cell_type": "code",
   "execution_count": 2,
   "metadata": {},
   "outputs": [],
   "source": [
    "import pandas as pd\n",
    "import numpy as np\n",
    "#import matplotlib.pyplot as plt\n",
    "import plotly.express as px\n",
    "#import seaborn as sns\n",
    "import requests\n",
    "from io import StringIO"
   ]
  },
  {
   "cell_type": "code",
   "execution_count": 3,
   "metadata": {},
   "outputs": [],
   "source": [
    "# Entire_home_apt.csv\n",
    "# id_neighbordhood_date.csv\n",
    "\n",
    "#dwn_url='https://figshare.com/articles/dataset/Entire_home_apt_csv/13259795'\n",
    "#url = requests.get(dwn_url).text\n",
    "#csv_raw = StringIO(url)\n",
    "\n",
    "#url"
   ]
  },
  {
   "cell_type": "code",
   "execution_count": 21,
   "metadata": {},
   "outputs": [
    {
     "data": {
      "text/html": [
       "<div>\n",
       "<style scoped>\n",
       "    .dataframe tbody tr th:only-of-type {\n",
       "        vertical-align: middle;\n",
       "    }\n",
       "\n",
       "    .dataframe tbody tr th {\n",
       "        vertical-align: top;\n",
       "    }\n",
       "\n",
       "    .dataframe thead th {\n",
       "        text-align: right;\n",
       "    }\n",
       "</style>\n",
       "<table border=\"1\" class=\"dataframe\">\n",
       "  <thead>\n",
       "    <tr style=\"text-align: right;\">\n",
       "      <th></th>\n",
       "      <th>id</th>\n",
       "      <th>latitude</th>\n",
       "      <th>longitude</th>\n",
       "      <th>listing_url</th>\n",
       "      <th>host_id</th>\n",
       "      <th>host_name</th>\n",
       "      <th>host_since</th>\n",
       "      <th>room_type</th>\n",
       "      <th>neighbourhood_cleansed</th>\n",
       "      <th>neighbourhood_group_cleansed</th>\n",
       "      <th>...</th>\n",
       "      <th>last_review</th>\n",
       "      <th>review_scores_rating</th>\n",
       "      <th>review_scores_accuracy</th>\n",
       "      <th>review_scores_cleanliness</th>\n",
       "      <th>review_scores_checkin</th>\n",
       "      <th>review_scores_communication</th>\n",
       "      <th>review_scores_location.1</th>\n",
       "      <th>review_scores_value</th>\n",
       "      <th>calculated_host_listings_count</th>\n",
       "      <th>date</th>\n",
       "    </tr>\n",
       "  </thead>\n",
       "  <tbody>\n",
       "    <tr>\n",
       "      <th>0</th>\n",
       "      <td>2602460</td>\n",
       "      <td>52.60010</td>\n",
       "      <td>13.32972</td>\n",
       "      <td>https://www.airbnb.com/rooms/2602460</td>\n",
       "      <td>13315290</td>\n",
       "      <td>Flora</td>\n",
       "      <td>2014-03-19</td>\n",
       "      <td>Entire home/apt</td>\n",
       "      <td>MV 2</td>\n",
       "      <td>Reinickendorf</td>\n",
       "      <td>...</td>\n",
       "      <td>2015-09-15</td>\n",
       "      <td>93.0</td>\n",
       "      <td>9.0</td>\n",
       "      <td>10.0</td>\n",
       "      <td>10.0</td>\n",
       "      <td>10.0</td>\n",
       "      <td>9.0</td>\n",
       "      <td>9.0</td>\n",
       "      <td>1</td>\n",
       "      <td>2015-10-03</td>\n",
       "    </tr>\n",
       "    <tr>\n",
       "      <th>1</th>\n",
       "      <td>3637595</td>\n",
       "      <td>52.49110</td>\n",
       "      <td>13.41359</td>\n",
       "      <td>https://www.airbnb.com/rooms/3637595</td>\n",
       "      <td>4094666</td>\n",
       "      <td>Patricia Aulitzky</td>\n",
       "      <td>2012-11-08</td>\n",
       "      <td>Entire home/apt</td>\n",
       "      <td>Tempelhofer Vorstadt</td>\n",
       "      <td>Friedrichshain-Kreuzberg</td>\n",
       "      <td>...</td>\n",
       "      <td>2015-09-30</td>\n",
       "      <td>98.0</td>\n",
       "      <td>10.0</td>\n",
       "      <td>10.0</td>\n",
       "      <td>10.0</td>\n",
       "      <td>10.0</td>\n",
       "      <td>10.0</td>\n",
       "      <td>9.0</td>\n",
       "      <td>1</td>\n",
       "      <td>2015-10-03</td>\n",
       "    </tr>\n",
       "    <tr>\n",
       "      <th>2</th>\n",
       "      <td>6160418</td>\n",
       "      <td>52.49603</td>\n",
       "      <td>13.37990</td>\n",
       "      <td>https://www.airbnb.com/rooms/6160418</td>\n",
       "      <td>1718617</td>\n",
       "      <td>Guy</td>\n",
       "      <td>2012-02-08</td>\n",
       "      <td>Entire home/apt</td>\n",
       "      <td>Tempelhofer Vorstadt</td>\n",
       "      <td>Friedrichshain-Kreuzberg</td>\n",
       "      <td>...</td>\n",
       "      <td>2015-05-05</td>\n",
       "      <td>100.0</td>\n",
       "      <td>10.0</td>\n",
       "      <td>10.0</td>\n",
       "      <td>10.0</td>\n",
       "      <td>10.0</td>\n",
       "      <td>8.0</td>\n",
       "      <td>8.0</td>\n",
       "      <td>2</td>\n",
       "      <td>2015-10-03</td>\n",
       "    </tr>\n",
       "    <tr>\n",
       "      <th>3</th>\n",
       "      <td>3588362</td>\n",
       "      <td>52.49348</td>\n",
       "      <td>13.39693</td>\n",
       "      <td>https://www.airbnb.com/rooms/3588362</td>\n",
       "      <td>16739581</td>\n",
       "      <td>Ava</td>\n",
       "      <td>2014-06-13</td>\n",
       "      <td>Entire home/apt</td>\n",
       "      <td>Tempelhofer Vorstadt</td>\n",
       "      <td>Friedrichshain-Kreuzberg</td>\n",
       "      <td>...</td>\n",
       "      <td>2015-09-14</td>\n",
       "      <td>87.0</td>\n",
       "      <td>9.0</td>\n",
       "      <td>10.0</td>\n",
       "      <td>9.0</td>\n",
       "      <td>8.0</td>\n",
       "      <td>9.0</td>\n",
       "      <td>8.0</td>\n",
       "      <td>2</td>\n",
       "      <td>2015-10-03</td>\n",
       "    </tr>\n",
       "    <tr>\n",
       "      <th>4</th>\n",
       "      <td>6655897</td>\n",
       "      <td>52.48871</td>\n",
       "      <td>13.41666</td>\n",
       "      <td>https://www.airbnb.com/rooms/6655897</td>\n",
       "      <td>34836886</td>\n",
       "      <td>Anna</td>\n",
       "      <td>2015-06-02</td>\n",
       "      <td>Entire home/apt</td>\n",
       "      <td>Tempelhofer Vorstadt</td>\n",
       "      <td>Friedrichshain-Kreuzberg</td>\n",
       "      <td>...</td>\n",
       "      <td>2015-07-18</td>\n",
       "      <td>100.0</td>\n",
       "      <td>10.0</td>\n",
       "      <td>10.0</td>\n",
       "      <td>10.0</td>\n",
       "      <td>10.0</td>\n",
       "      <td>10.0</td>\n",
       "      <td>10.0</td>\n",
       "      <td>1</td>\n",
       "      <td>2015-10-03</td>\n",
       "    </tr>\n",
       "    <tr>\n",
       "      <th>...</th>\n",
       "      <td>...</td>\n",
       "      <td>...</td>\n",
       "      <td>...</td>\n",
       "      <td>...</td>\n",
       "      <td>...</td>\n",
       "      <td>...</td>\n",
       "      <td>...</td>\n",
       "      <td>...</td>\n",
       "      <td>...</td>\n",
       "      <td>...</td>\n",
       "      <td>...</td>\n",
       "      <td>...</td>\n",
       "      <td>...</td>\n",
       "      <td>...</td>\n",
       "      <td>...</td>\n",
       "      <td>...</td>\n",
       "      <td>...</td>\n",
       "      <td>...</td>\n",
       "      <td>...</td>\n",
       "      <td>...</td>\n",
       "      <td>...</td>\n",
       "    </tr>\n",
       "    <tr>\n",
       "      <th>1005459</th>\n",
       "      <td>31382592</td>\n",
       "      <td>52.51236</td>\n",
       "      <td>13.40905</td>\n",
       "      <td>https://www.airbnb.com/rooms/31382592</td>\n",
       "      <td>235031879</td>\n",
       "      <td>Helga</td>\n",
       "      <td>2019-01-07</td>\n",
       "      <td>Entire home/apt</td>\n",
       "      <td>Alexanderplatz</td>\n",
       "      <td>Mitte</td>\n",
       "      <td>...</td>\n",
       "      <td>2020-08-26</td>\n",
       "      <td>98.0</td>\n",
       "      <td>10.0</td>\n",
       "      <td>10.0</td>\n",
       "      <td>10.0</td>\n",
       "      <td>10.0</td>\n",
       "      <td>10.0</td>\n",
       "      <td>10.0</td>\n",
       "      <td>1</td>\n",
       "      <td>2020-08-30</td>\n",
       "    </tr>\n",
       "    <tr>\n",
       "      <th>1005460</th>\n",
       "      <td>31382644</td>\n",
       "      <td>52.46875</td>\n",
       "      <td>13.42709</td>\n",
       "      <td>https://www.airbnb.com/rooms/31382644</td>\n",
       "      <td>235032226</td>\n",
       "      <td>Benjamin</td>\n",
       "      <td>2019-01-07</td>\n",
       "      <td>Entire home/apt</td>\n",
       "      <td>Schillerpromenade</td>\n",
       "      <td>Neukölln</td>\n",
       "      <td>...</td>\n",
       "      <td>2020-08-20</td>\n",
       "      <td>98.0</td>\n",
       "      <td>10.0</td>\n",
       "      <td>10.0</td>\n",
       "      <td>10.0</td>\n",
       "      <td>10.0</td>\n",
       "      <td>10.0</td>\n",
       "      <td>10.0</td>\n",
       "      <td>1</td>\n",
       "      <td>2020-08-30</td>\n",
       "    </tr>\n",
       "    <tr>\n",
       "      <th>1005462</th>\n",
       "      <td>31385396</td>\n",
       "      <td>52.50923</td>\n",
       "      <td>13.46516</td>\n",
       "      <td>https://www.airbnb.com/rooms/31385396</td>\n",
       "      <td>235058174</td>\n",
       "      <td>Bert</td>\n",
       "      <td>2019-01-07</td>\n",
       "      <td>Entire home/apt</td>\n",
       "      <td>Frankfurter Allee Süd FK</td>\n",
       "      <td>Friedrichshain-Kreuzberg</td>\n",
       "      <td>...</td>\n",
       "      <td>2020-08-21</td>\n",
       "      <td>94.0</td>\n",
       "      <td>10.0</td>\n",
       "      <td>10.0</td>\n",
       "      <td>10.0</td>\n",
       "      <td>10.0</td>\n",
       "      <td>10.0</td>\n",
       "      <td>9.0</td>\n",
       "      <td>1</td>\n",
       "      <td>2020-08-30</td>\n",
       "    </tr>\n",
       "    <tr>\n",
       "      <th>1005463</th>\n",
       "      <td>31386775</td>\n",
       "      <td>52.52315</td>\n",
       "      <td>13.38748</td>\n",
       "      <td>https://www.airbnb.com/rooms/31386775</td>\n",
       "      <td>1581930</td>\n",
       "      <td>Darius</td>\n",
       "      <td>2012-01-08</td>\n",
       "      <td>Entire home/apt</td>\n",
       "      <td>Alexanderplatz</td>\n",
       "      <td>Mitte</td>\n",
       "      <td>...</td>\n",
       "      <td>2020-06-04</td>\n",
       "      <td>97.0</td>\n",
       "      <td>10.0</td>\n",
       "      <td>10.0</td>\n",
       "      <td>9.0</td>\n",
       "      <td>9.0</td>\n",
       "      <td>10.0</td>\n",
       "      <td>9.0</td>\n",
       "      <td>2</td>\n",
       "      <td>2020-08-30</td>\n",
       "    </tr>\n",
       "    <tr>\n",
       "      <th>1005465</th>\n",
       "      <td>31397673</td>\n",
       "      <td>52.48174</td>\n",
       "      <td>13.36271</td>\n",
       "      <td>https://www.airbnb.com/rooms/31397673</td>\n",
       "      <td>235168007</td>\n",
       "      <td>Gela</td>\n",
       "      <td>2019-01-08</td>\n",
       "      <td>Entire home/apt</td>\n",
       "      <td>Schöneberg-Süd</td>\n",
       "      <td>Tempelhof - Schöneberg</td>\n",
       "      <td>...</td>\n",
       "      <td>2020-08-16</td>\n",
       "      <td>98.0</td>\n",
       "      <td>10.0</td>\n",
       "      <td>10.0</td>\n",
       "      <td>10.0</td>\n",
       "      <td>10.0</td>\n",
       "      <td>10.0</td>\n",
       "      <td>10.0</td>\n",
       "      <td>1</td>\n",
       "      <td>2020-08-30</td>\n",
       "    </tr>\n",
       "  </tbody>\n",
       "</table>\n",
       "<p>514807 rows × 22 columns</p>\n",
       "</div>"
      ],
      "text/plain": [
       "               id  latitude  longitude                            listing_url  \\\n",
       "0         2602460  52.60010   13.32972   https://www.airbnb.com/rooms/2602460   \n",
       "1         3637595  52.49110   13.41359   https://www.airbnb.com/rooms/3637595   \n",
       "2         6160418  52.49603   13.37990   https://www.airbnb.com/rooms/6160418   \n",
       "3         3588362  52.49348   13.39693   https://www.airbnb.com/rooms/3588362   \n",
       "4         6655897  52.48871   13.41666   https://www.airbnb.com/rooms/6655897   \n",
       "...           ...       ...        ...                                    ...   \n",
       "1005459  31382592  52.51236   13.40905  https://www.airbnb.com/rooms/31382592   \n",
       "1005460  31382644  52.46875   13.42709  https://www.airbnb.com/rooms/31382644   \n",
       "1005462  31385396  52.50923   13.46516  https://www.airbnb.com/rooms/31385396   \n",
       "1005463  31386775  52.52315   13.38748  https://www.airbnb.com/rooms/31386775   \n",
       "1005465  31397673  52.48174   13.36271  https://www.airbnb.com/rooms/31397673   \n",
       "\n",
       "           host_id          host_name  host_since        room_type  \\\n",
       "0         13315290              Flora  2014-03-19  Entire home/apt   \n",
       "1          4094666  Patricia Aulitzky  2012-11-08  Entire home/apt   \n",
       "2          1718617                Guy  2012-02-08  Entire home/apt   \n",
       "3         16739581                Ava  2014-06-13  Entire home/apt   \n",
       "4         34836886               Anna  2015-06-02  Entire home/apt   \n",
       "...            ...                ...         ...              ...   \n",
       "1005459  235031879              Helga  2019-01-07  Entire home/apt   \n",
       "1005460  235032226           Benjamin  2019-01-07  Entire home/apt   \n",
       "1005462  235058174               Bert  2019-01-07  Entire home/apt   \n",
       "1005463    1581930             Darius  2012-01-08  Entire home/apt   \n",
       "1005465  235168007               Gela  2019-01-08  Entire home/apt   \n",
       "\n",
       "           neighbourhood_cleansed neighbourhood_group_cleansed  ...  \\\n",
       "0                            MV 2                Reinickendorf  ...   \n",
       "1            Tempelhofer Vorstadt     Friedrichshain-Kreuzberg  ...   \n",
       "2            Tempelhofer Vorstadt     Friedrichshain-Kreuzberg  ...   \n",
       "3            Tempelhofer Vorstadt     Friedrichshain-Kreuzberg  ...   \n",
       "4            Tempelhofer Vorstadt     Friedrichshain-Kreuzberg  ...   \n",
       "...                           ...                          ...  ...   \n",
       "1005459            Alexanderplatz                        Mitte  ...   \n",
       "1005460         Schillerpromenade                     Neukölln  ...   \n",
       "1005462  Frankfurter Allee Süd FK     Friedrichshain-Kreuzberg  ...   \n",
       "1005463            Alexanderplatz                        Mitte  ...   \n",
       "1005465            Schöneberg-Süd       Tempelhof - Schöneberg  ...   \n",
       "\n",
       "         last_review  review_scores_rating review_scores_accuracy  \\\n",
       "0         2015-09-15                  93.0                    9.0   \n",
       "1         2015-09-30                  98.0                   10.0   \n",
       "2         2015-05-05                 100.0                   10.0   \n",
       "3         2015-09-14                  87.0                    9.0   \n",
       "4         2015-07-18                 100.0                   10.0   \n",
       "...              ...                   ...                    ...   \n",
       "1005459   2020-08-26                  98.0                   10.0   \n",
       "1005460   2020-08-20                  98.0                   10.0   \n",
       "1005462   2020-08-21                  94.0                   10.0   \n",
       "1005463   2020-06-04                  97.0                   10.0   \n",
       "1005465   2020-08-16                  98.0                   10.0   \n",
       "\n",
       "         review_scores_cleanliness  review_scores_checkin  \\\n",
       "0                             10.0                   10.0   \n",
       "1                             10.0                   10.0   \n",
       "2                             10.0                   10.0   \n",
       "3                             10.0                    9.0   \n",
       "4                             10.0                   10.0   \n",
       "...                            ...                    ...   \n",
       "1005459                       10.0                   10.0   \n",
       "1005460                       10.0                   10.0   \n",
       "1005462                       10.0                   10.0   \n",
       "1005463                       10.0                    9.0   \n",
       "1005465                       10.0                   10.0   \n",
       "\n",
       "         review_scores_communication  review_scores_location.1  \\\n",
       "0                               10.0                       9.0   \n",
       "1                               10.0                      10.0   \n",
       "2                               10.0                       8.0   \n",
       "3                                8.0                       9.0   \n",
       "4                               10.0                      10.0   \n",
       "...                              ...                       ...   \n",
       "1005459                         10.0                      10.0   \n",
       "1005460                         10.0                      10.0   \n",
       "1005462                         10.0                      10.0   \n",
       "1005463                          9.0                      10.0   \n",
       "1005465                         10.0                      10.0   \n",
       "\n",
       "         review_scores_value  calculated_host_listings_count        date  \n",
       "0                        9.0                               1  2015-10-03  \n",
       "1                        9.0                               1  2015-10-03  \n",
       "2                        8.0                               2  2015-10-03  \n",
       "3                        8.0                               2  2015-10-03  \n",
       "4                       10.0                               1  2015-10-03  \n",
       "...                      ...                             ...         ...  \n",
       "1005459                 10.0                               1  2020-08-30  \n",
       "1005460                 10.0                               1  2020-08-30  \n",
       "1005462                  9.0                               1  2020-08-30  \n",
       "1005463                  9.0                               2  2020-08-30  \n",
       "1005465                 10.0                               1  2020-08-30  \n",
       "\n",
       "[514807 rows x 22 columns]"
      ]
     },
     "execution_count": 21,
     "metadata": {},
     "output_type": "execute_result"
    }
   ],
   "source": [
    "df=pd.read_csv('../Final/Berlin/merge_data_files/Entire_home_apt.csv',low_memory=False,index_col=0) \n",
    "df"
   ]
  },
  {
   "cell_type": "code",
   "execution_count": 22,
   "metadata": {},
   "outputs": [
    {
     "data": {
      "text/plain": [
       "0          2015-10-03\n",
       "1          2015-10-03\n",
       "2          2015-10-03\n",
       "3          2015-10-03\n",
       "4          2015-10-03\n",
       "              ...    \n",
       "1005459    2020-08-30\n",
       "1005460    2020-08-30\n",
       "1005462    2020-08-30\n",
       "1005463    2020-08-30\n",
       "1005465    2020-08-30\n",
       "Name: date, Length: 514807, dtype: object"
      ]
     },
     "execution_count": 22,
     "metadata": {},
     "output_type": "execute_result"
    }
   ],
   "source": [
    "df.date\n"
   ]
  },
  {
   "cell_type": "code",
   "execution_count": 9,
   "metadata": {},
   "outputs": [
    {
     "data": {
      "text/plain": [
       "Timestamp('2020-08-30 00:00:00')"
      ]
     },
     "execution_count": 9,
     "metadata": {},
     "output_type": "execute_result"
    }
   ],
   "source": [
    "max(df.date)"
   ]
  },
  {
   "cell_type": "code",
   "execution_count": 10,
   "metadata": {},
   "outputs": [
    {
     "ename": "AttributeError",
     "evalue": "module 'pydeck' has no attribute 'Layer'",
     "output_type": "error",
     "traceback": [
      "\u001b[1;31m---------------------------------------------------------------------------\u001b[0m",
      "\u001b[1;31mAttributeError\u001b[0m                            Traceback (most recent call last)",
      "\u001b[1;32m<ipython-input-10-3fca006f5818>\u001b[0m in \u001b[0;36m<module>\u001b[1;34m\u001b[0m\n\u001b[0;32m      9\u001b[0m \u001b[1;31m# Define a layer to display on a map\u001b[0m\u001b[1;33m\u001b[0m\u001b[1;33m\u001b[0m\u001b[1;33m\u001b[0m\u001b[0m\n\u001b[0;32m     10\u001b[0m \u001b[1;33m\u001b[0m\u001b[0m\n\u001b[1;32m---> 11\u001b[1;33m layer = pdk.Layer(\n\u001b[0m\u001b[0;32m     12\u001b[0m     \u001b[1;34m\"GridLayer\"\u001b[0m\u001b[1;33m,\u001b[0m\u001b[1;33m\u001b[0m\u001b[1;33m\u001b[0m\u001b[0m\n\u001b[0;32m     13\u001b[0m     \u001b[0mdf\u001b[0m\u001b[1;33m,\u001b[0m\u001b[1;33m\u001b[0m\u001b[1;33m\u001b[0m\u001b[0m\n",
      "\u001b[1;31mAttributeError\u001b[0m: module 'pydeck' has no attribute 'Layer'"
     ]
    }
   ],
   "source": [
    "import pydeck as pdk\n",
    "import pandas as pd\n",
    "\n",
    "CPU_GRID_LAYER_DATA = (\n",
    "    \"https://raw.githubusercontent.com/uber-common/\" \"deck.gl-data/master/website/sf-bike-parking.json\"\n",
    ")\n",
    "df = pd.read_json(CPU_GRID_LAYER_DATA)\n",
    "\n",
    "# Define a layer to display on a map\n",
    "\n",
    "layer = pdk.Layer(\n",
    "    \"GridLayer\",\n",
    "    df,\n",
    "    pickable=True,\n",
    "    extruded=True,\n",
    "    cell_size=200,\n",
    "    elevation_scale=4,\n",
    "    get_position=\"COORDINATES\",\n",
    ")\n",
    "\n",
    "view_state = pdk.ViewState(latitude=37.7749295, longitude=-122.4194155, zoom=11, bearing=0, pitch=45)\n",
    "\n",
    "# Render\n",
    "r = pdk.Deck(\n",
    "    layers=[layer],\n",
    "    initial_view_state=view_state,\n",
    "    tooltip={\"text\": \"{position}\\nCount: {count}\"},\n",
    ")\n",
    "r.to_html(\"grid_layer.html\")"
   ]
  },
  {
   "cell_type": "code",
   "execution_count": null,
   "metadata": {},
   "outputs": [],
   "source": [
    "\n",
    "df.loc[df.date=='2020-05-14'].host_id.nunique()"
   ]
  },
  {
   "cell_type": "code",
   "execution_count": null,
   "metadata": {},
   "outputs": [],
   "source": [
    "#find the top 20 districts\n",
    "\n",
    "top10=df.loc[df.date=='2020-05-14']['neighbourhood_cleansed'].value_counts()[:10].index.tolist()\n",
    "top10"
   ]
  },
  {
   "cell_type": "code",
   "execution_count": null,
   "metadata": {},
   "outputs": [],
   "source": [
    "df2=df.groupby(['neighbourhood_cleansed','date'],as_index=False).count()[['neighbourhood_cleansed','date','id']]"
   ]
  },
  {
   "cell_type": "code",
   "execution_count": null,
   "metadata": {},
   "outputs": [],
   "source": [
    "#df2=df2.sort_values(by=['id'], ascending=False)\n",
    "df2.date = pd.to_datetime(df2.date, format='%Y-%m-%d')"
   ]
  },
  {
   "cell_type": "code",
   "execution_count": null,
   "metadata": {},
   "outputs": [],
   "source": []
  },
  {
   "cell_type": "code",
   "execution_count": null,
   "metadata": {},
   "outputs": [],
   "source": [
    "toplot=df2.loc[df2['neighbourhood_cleansed'].isin(top15)]\n",
    "toplot"
   ]
  },
  {
   "cell_type": "code",
   "execution_count": null,
   "metadata": {},
   "outputs": [],
   "source": [
    "tp=toplot.pivot(index='date', columns='neighbourhood_cleansed', values='id').reset_index().rename_axis(None, axis=1)"
   ]
  },
  {
   "cell_type": "code",
   "execution_count": null,
   "metadata": {},
   "outputs": [],
   "source": [
    "\n",
    "\n",
    "\n",
    "import plotly.express as px\n",
    "toplot = df2.loc[df2['neighbourhood_cleansed'].isin(top10)]\n",
    "fig = px.line(toplot, x=\"date\", y=\"id\", color='neighbourhood_cleansed')\n",
    "fig.show()"
   ]
  },
  {
   "cell_type": "code",
   "execution_count": null,
   "metadata": {},
   "outputs": [],
   "source": [
    "o = px.data.gapminder().query(\"continent=='Oceania'\")\n",
    "o"
   ]
  },
  {
   "cell_type": "code",
   "execution_count": null,
   "metadata": {},
   "outputs": [],
   "source": [
    "#find the top 20 hots\n",
    "\n",
    "top20=df.loc[df.date=='2020-05-14']['host_id'].value_counts()[:30].index.tolist()\n",
    "top20"
   ]
  },
  {
   "cell_type": "code",
   "execution_count": null,
   "metadata": {},
   "outputs": [],
   "source": [
    "df3=df.groupby(['host_id','date'],as_index=False).count()[['host_id','date','id']]"
   ]
  },
  {
   "cell_type": "code",
   "execution_count": null,
   "metadata": {},
   "outputs": [],
   "source": [
    "df3=df3.sort_values(by=['id'], ascending=False)\n",
    "df3.date = pd.to_datetime(df3.date, format='%Y-%m-%d')"
   ]
  },
  {
   "cell_type": "code",
   "execution_count": null,
   "metadata": {},
   "outputs": [],
   "source": [
    "toplot=df3.loc[df3['host_id'].isin(top20)]"
   ]
  },
  {
   "cell_type": "code",
   "execution_count": null,
   "metadata": {},
   "outputs": [],
   "source": [
    "toplot"
   ]
  },
  {
   "cell_type": "code",
   "execution_count": null,
   "metadata": {},
   "outputs": [],
   "source": [
    "toplot=df3.loc[df3['host_id'].isin(top20)]\n",
    "\n",
    "plt.figure(figsize=(15, 10)) \n",
    "\n",
    "\n",
    "\n",
    "sns.lineplot(data=toplot, x=\"date\", y=\"id\", hue='host_id', markers=True, dashes=False)"
   ]
  },
  {
   "cell_type": "code",
   "execution_count": null,
   "metadata": {},
   "outputs": [],
   "source": [
    "toplot=df3.copy()\n",
    "\n",
    "bins = [0,1,2,4,8,16,260]\n",
    "\n",
    "toplot['binned'] = pd.cut(toplot['id'], bins)\n",
    "\n",
    "\n",
    "\n",
    "toplot"
   ]
  },
  {
   "cell_type": "code",
   "execution_count": null,
   "metadata": {},
   "outputs": [],
   "source": [
    "df['binned_calc']=pd.cut(df['calculated_host_listings_count'], bins)"
   ]
  },
  {
   "cell_type": "code",
   "execution_count": null,
   "metadata": {},
   "outputs": [],
   "source": [
    "df['binned_calc']=df['binned_calc'].astype(str)"
   ]
  },
  {
   "cell_type": "code",
   "execution_count": null,
   "metadata": {},
   "outputs": [],
   "source": [
    "pie_5=df.groupby(['binned_calc','date'],as_index=False).count()[['binned_calc','date','id']]"
   ]
  },
  {
   "cell_type": "code",
   "execution_count": null,
   "metadata": {},
   "outputs": [],
   "source": [
    "pie_5.date"
   ]
  },
  {
   "cell_type": "code",
   "execution_count": null,
   "metadata": {},
   "outputs": [],
   "source": [
    "pie_5.loc[pie_5.date=='2016-05-03']"
   ]
  },
  {
   "cell_type": "code",
   "execution_count": null,
   "metadata": {},
   "outputs": [],
   "source": [
    "import plotly.graph_objects as go\n",
    "from plotly.subplots import make_subplots\n",
    "\n",
    "\n",
    "\n",
    "fig = make_subplots(rows=1, cols=2, specs=[[{'type':'domain'}, {'type':'domain'}]],\n",
    "                    subplot_titles=['2016','2020'])\n",
    "fig.add_trace(go.Pie(labels=pie_5.loc[pie_5.date=='2016-05-03'].binned_calc, \n",
    "                     values=pie_5.loc[pie_5.date=='2016-05-03'].id, scalegroup='one',\n",
    "                     name=\"2016\"), 1, 1)\n",
    "fig.add_trace(go.Pie(labels=pie_5.loc[pie_5.date=='2020-05-14'].binned_calc, \n",
    "                     values=pie_5.loc[pie_5.date=='2020-05-14'].id, scalegroup='one',\n",
    "                     name=\"2020\"), 1, 2)\n",
    "\n",
    "fig.update_layout(\n",
    "    margin=dict(l=0, r=0, t=0, b=0), height=600\n",
    ")\n",
    "\n",
    "fig.update_layout(title_text='Multiple flat host evolution')\n",
    "fig.show()\n",
    "fig.write_html(\"../Final/Pie_chart_5years.html\")"
   ]
  },
  {
   "cell_type": "code",
   "execution_count": null,
   "metadata": {},
   "outputs": [],
   "source": []
  },
  {
   "cell_type": "code",
   "execution_count": null,
   "metadata": {},
   "outputs": [],
   "source": [
    "# count the multiple host listings\n",
    "plot=toplot.groupby(['binned','date'],as_index=False).count()"
   ]
  },
  {
   "cell_type": "code",
   "execution_count": null,
   "metadata": {},
   "outputs": [],
   "source": [
    "fig = px.bar(plot, x='date', y='id', labels = {\"value\": \"count\", \"variable\": \"medal\"},\n",
    "             color='binned', \n",
    "            title='Number of hosts with multiple listings_only_apts')\n",
    "fig.show()\n",
    "fig.write_html(\"../Final/multipleL_host_5years.html\")"
   ]
  },
  {
   "cell_type": "markdown",
   "metadata": {},
   "source": [
    "# plot the multiple flat hosts over time on map"
   ]
  },
  {
   "cell_type": "code",
   "execution_count": null,
   "metadata": {},
   "outputs": [],
   "source": [
    "#toplot.loc[\n",
    "toplot['binned']=toplot['binned'].astype(str)\n"
   ]
  },
  {
   "cell_type": "code",
   "execution_count": null,
   "metadata": {},
   "outputs": [],
   "source": [
    "data2=toplot.loc[toplot['binned'].isin(['(2, 4]','(4, 8]','(8, 16]','(16, 260]'])][['date','host_id','binned']]"
   ]
  },
  {
   "cell_type": "code",
   "execution_count": null,
   "metadata": {},
   "outputs": [],
   "source": [
    "df.dtypes"
   ]
  },
  {
   "cell_type": "code",
   "execution_count": null,
   "metadata": {},
   "outputs": [],
   "source": [
    "df.date = pd.to_datetime(df.date, format='%Y-%m-%d')"
   ]
  },
  {
   "cell_type": "code",
   "execution_count": null,
   "metadata": {},
   "outputs": [],
   "source": [
    "data2.dtypes"
   ]
  },
  {
   "cell_type": "code",
   "execution_count": null,
   "metadata": {},
   "outputs": [],
   "source": [
    "data=pd.merge(df, data2,  how='left',  on=['host_id','date'])\n"
   ]
  },
  {
   "cell_type": "code",
   "execution_count": null,
   "metadata": {},
   "outputs": [],
   "source": [
    "# clean data for ploting\n",
    "#df=data.loc[data.binned.notnull()]\n",
    "df.date=df.date.apply(lambda x: x.strftime('%Y-%m'))"
   ]
  },
  {
   "cell_type": "code",
   "execution_count": null,
   "metadata": {},
   "outputs": [],
   "source": [
    "import plotly.figure_factory as ff\n",
    "\n",
    "# it needs a token for access mapbox\n",
    "px.set_mapbox_access_token('pk.eyJ1Ijoiam9obnppbnoiLCJhIjoiY2tmbWthazZ6MDNueDJxb2ZyZ2M3czU0dyJ9.Bl3T4kl14xan7glGxid_Rw')\n",
    "\n",
    "\n",
    "lat = df['latitude']\n",
    "lon = df['longitude']\n",
    "frame = df['date']\n",
    "\n",
    "fig = ff.create_hexbin_mapbox(\n",
    "    lat=lat, lon=lon, nx_hexagon=50, animation_frame=frame,\n",
    "    color_continuous_scale=\"Viridis\", labels={\"color\": \"Airbnb listings > 50\", \"frame\": \"Period\"},\n",
    "    opacity=0.5, min_count=60, height=500, zoom=10)\n",
    "    #show_original_data=True, original_data_marker=dict(opacity=0.4, size=3, color=\"blue\"))\n",
    "fig.update_layout(title={'text': \"density spots\"})\n",
    "fig.update_layout(margin={\"r\":0,\"t\":30,\"l\":0,\"b\":0})\n",
    "fig.show()\n",
    "\n",
    "# write to an html file\n",
    "fig.write_html(\"../Final/hives_for_density2.html\")"
   ]
  },
  {
   "cell_type": "code",
   "execution_count": null,
   "metadata": {},
   "outputs": [],
   "source": []
  },
  {
   "cell_type": "code",
   "execution_count": null,
   "metadata": {},
   "outputs": [],
   "source": []
  }
 ],
 "metadata": {
  "kernelspec": {
   "display_name": "Python 3",
   "language": "python",
   "name": "python3"
  },
  "language_info": {
   "codemirror_mode": {
    "name": "ipython",
    "version": 3
   },
   "file_extension": ".py",
   "mimetype": "text/x-python",
   "name": "python",
   "nbconvert_exporter": "python",
   "pygments_lexer": "ipython3",
   "version": "3.7.9"
  }
 },
 "nbformat": 4,
 "nbformat_minor": 4
}
