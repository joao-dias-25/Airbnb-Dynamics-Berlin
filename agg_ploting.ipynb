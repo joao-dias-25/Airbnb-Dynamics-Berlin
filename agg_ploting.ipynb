{
 "cells": [
  {
   "cell_type": "code",
   "execution_count": 1,
   "metadata": {},
   "outputs": [],
   "source": [
    "import pandas as pd\n",
    "import numpy as np\n",
    "#import matplotlib.pyplot as plt\n",
    "#import plotly.express as px\n",
    "#import seaborn as sns\n",
    "import requests\n",
    "from io import StringIO\n",
    "import streamlit as st\n",
    "import pydeck as pdk\n"
   ]
  },
  {
   "cell_type": "code",
   "execution_count": null,
   "metadata": {},
   "outputs": [],
   "source": [
    "# Entire_home_apt.csv\n",
    "# id_neighbordhood_date.csv\n",
    "\n",
    "#dwn_url='https://figshare.com/articles/dataset/Entire_home_apt_csv/13259795'\n",
    "#url = requests.get(dwn_url).text\n",
    "#csv_raw = StringIO(url)\n",
    "\n",
    "#url"
   ]
  },
  {
   "cell_type": "code",
   "execution_count": 7,
   "metadata": {},
   "outputs": [
    {
     "data": {
      "text/html": [
       "<div>\n",
       "<style scoped>\n",
       "    .dataframe tbody tr th:only-of-type {\n",
       "        vertical-align: middle;\n",
       "    }\n",
       "\n",
       "    .dataframe tbody tr th {\n",
       "        vertical-align: top;\n",
       "    }\n",
       "\n",
       "    .dataframe thead th {\n",
       "        text-align: right;\n",
       "    }\n",
       "</style>\n",
       "<table border=\"1\" class=\"dataframe\">\n",
       "  <thead>\n",
       "    <tr style=\"text-align: right;\">\n",
       "      <th></th>\n",
       "      <th>id</th>\n",
       "      <th>latitude</th>\n",
       "      <th>longitude</th>\n",
       "      <th>listing_url</th>\n",
       "      <th>host_id</th>\n",
       "      <th>host_name</th>\n",
       "      <th>host_since</th>\n",
       "      <th>host_location</th>\n",
       "      <th>room_type</th>\n",
       "      <th>neighbourhood_cleansed</th>\n",
       "      <th>...</th>\n",
       "      <th>last_review</th>\n",
       "      <th>review_scores_rating</th>\n",
       "      <th>review_scores_accuracy</th>\n",
       "      <th>review_scores_cleanliness</th>\n",
       "      <th>review_scores_checkin</th>\n",
       "      <th>review_scores_communication</th>\n",
       "      <th>review_scores_location.1</th>\n",
       "      <th>review_scores_value</th>\n",
       "      <th>calculated_host_listings_count</th>\n",
       "      <th>date</th>\n",
       "    </tr>\n",
       "  </thead>\n",
       "  <tbody>\n",
       "    <tr>\n",
       "      <th>0</th>\n",
       "      <td>2602460</td>\n",
       "      <td>52.60010</td>\n",
       "      <td>13.32972</td>\n",
       "      <td>https://www.airbnb.com/rooms/2602460</td>\n",
       "      <td>13315290</td>\n",
       "      <td>Flora</td>\n",
       "      <td>2014-03-19</td>\n",
       "      <td>Berlin, Berlin, Germany</td>\n",
       "      <td>Entire home/apt</td>\n",
       "      <td>MV 2</td>\n",
       "      <td>...</td>\n",
       "      <td>2015-09-15</td>\n",
       "      <td>93.0</td>\n",
       "      <td>9.0</td>\n",
       "      <td>10.0</td>\n",
       "      <td>10.0</td>\n",
       "      <td>10.0</td>\n",
       "      <td>9.0</td>\n",
       "      <td>9.0</td>\n",
       "      <td>1</td>\n",
       "      <td>2015-10-03</td>\n",
       "    </tr>\n",
       "    <tr>\n",
       "      <th>1</th>\n",
       "      <td>3637595</td>\n",
       "      <td>52.49110</td>\n",
       "      <td>13.41359</td>\n",
       "      <td>https://www.airbnb.com/rooms/3637595</td>\n",
       "      <td>4094666</td>\n",
       "      <td>Patricia Aulitzky</td>\n",
       "      <td>2012-11-08</td>\n",
       "      <td>Berlin, Berlin, Germany</td>\n",
       "      <td>Entire home/apt</td>\n",
       "      <td>Tempelhofer Vorstadt</td>\n",
       "      <td>...</td>\n",
       "      <td>2015-09-30</td>\n",
       "      <td>98.0</td>\n",
       "      <td>10.0</td>\n",
       "      <td>10.0</td>\n",
       "      <td>10.0</td>\n",
       "      <td>10.0</td>\n",
       "      <td>10.0</td>\n",
       "      <td>9.0</td>\n",
       "      <td>1</td>\n",
       "      <td>2015-10-03</td>\n",
       "    </tr>\n",
       "    <tr>\n",
       "      <th>2</th>\n",
       "      <td>6160418</td>\n",
       "      <td>52.49603</td>\n",
       "      <td>13.37990</td>\n",
       "      <td>https://www.airbnb.com/rooms/6160418</td>\n",
       "      <td>1718617</td>\n",
       "      <td>Guy</td>\n",
       "      <td>2012-02-08</td>\n",
       "      <td>Berlin, Berlin, Germany</td>\n",
       "      <td>Entire home/apt</td>\n",
       "      <td>Tempelhofer Vorstadt</td>\n",
       "      <td>...</td>\n",
       "      <td>2015-05-05</td>\n",
       "      <td>100.0</td>\n",
       "      <td>10.0</td>\n",
       "      <td>10.0</td>\n",
       "      <td>10.0</td>\n",
       "      <td>10.0</td>\n",
       "      <td>8.0</td>\n",
       "      <td>8.0</td>\n",
       "      <td>2</td>\n",
       "      <td>2015-10-03</td>\n",
       "    </tr>\n",
       "    <tr>\n",
       "      <th>3</th>\n",
       "      <td>3588362</td>\n",
       "      <td>52.49348</td>\n",
       "      <td>13.39693</td>\n",
       "      <td>https://www.airbnb.com/rooms/3588362</td>\n",
       "      <td>16739581</td>\n",
       "      <td>Ava</td>\n",
       "      <td>2014-06-13</td>\n",
       "      <td>Berlin, Berlin, Germany</td>\n",
       "      <td>Entire home/apt</td>\n",
       "      <td>Tempelhofer Vorstadt</td>\n",
       "      <td>...</td>\n",
       "      <td>2015-09-14</td>\n",
       "      <td>87.0</td>\n",
       "      <td>9.0</td>\n",
       "      <td>10.0</td>\n",
       "      <td>9.0</td>\n",
       "      <td>8.0</td>\n",
       "      <td>9.0</td>\n",
       "      <td>8.0</td>\n",
       "      <td>2</td>\n",
       "      <td>2015-10-03</td>\n",
       "    </tr>\n",
       "    <tr>\n",
       "      <th>4</th>\n",
       "      <td>6655897</td>\n",
       "      <td>52.48871</td>\n",
       "      <td>13.41666</td>\n",
       "      <td>https://www.airbnb.com/rooms/6655897</td>\n",
       "      <td>34836886</td>\n",
       "      <td>Anna</td>\n",
       "      <td>2015-06-02</td>\n",
       "      <td>Berlin, Berlin, Germany</td>\n",
       "      <td>Entire home/apt</td>\n",
       "      <td>Tempelhofer Vorstadt</td>\n",
       "      <td>...</td>\n",
       "      <td>2015-07-18</td>\n",
       "      <td>100.0</td>\n",
       "      <td>10.0</td>\n",
       "      <td>10.0</td>\n",
       "      <td>10.0</td>\n",
       "      <td>10.0</td>\n",
       "      <td>10.0</td>\n",
       "      <td>10.0</td>\n",
       "      <td>1</td>\n",
       "      <td>2015-10-03</td>\n",
       "    </tr>\n",
       "    <tr>\n",
       "      <th>...</th>\n",
       "      <td>...</td>\n",
       "      <td>...</td>\n",
       "      <td>...</td>\n",
       "      <td>...</td>\n",
       "      <td>...</td>\n",
       "      <td>...</td>\n",
       "      <td>...</td>\n",
       "      <td>...</td>\n",
       "      <td>...</td>\n",
       "      <td>...</td>\n",
       "      <td>...</td>\n",
       "      <td>...</td>\n",
       "      <td>...</td>\n",
       "      <td>...</td>\n",
       "      <td>...</td>\n",
       "      <td>...</td>\n",
       "      <td>...</td>\n",
       "      <td>...</td>\n",
       "      <td>...</td>\n",
       "      <td>...</td>\n",
       "      <td>...</td>\n",
       "    </tr>\n",
       "    <tr>\n",
       "      <th>1045990</th>\n",
       "      <td>31871766</td>\n",
       "      <td>52.53022</td>\n",
       "      <td>13.41845</td>\n",
       "      <td>https://www.airbnb.com/rooms/31871766</td>\n",
       "      <td>184938172</td>\n",
       "      <td>Marcel</td>\n",
       "      <td>2018-04-18</td>\n",
       "      <td>Berlin, Berlin, Germany</td>\n",
       "      <td>Entire home/apt</td>\n",
       "      <td>Prenzlauer Berg Südwest</td>\n",
       "      <td>...</td>\n",
       "      <td>2020-10-11</td>\n",
       "      <td>96.0</td>\n",
       "      <td>10.0</td>\n",
       "      <td>10.0</td>\n",
       "      <td>10.0</td>\n",
       "      <td>10.0</td>\n",
       "      <td>10.0</td>\n",
       "      <td>9.0</td>\n",
       "      <td>3</td>\n",
       "      <td>2020-10-13</td>\n",
       "    </tr>\n",
       "    <tr>\n",
       "      <th>1045991</th>\n",
       "      <td>31872207</td>\n",
       "      <td>52.53022</td>\n",
       "      <td>13.41845</td>\n",
       "      <td>https://www.airbnb.com/rooms/31872207</td>\n",
       "      <td>184938172</td>\n",
       "      <td>Marcel</td>\n",
       "      <td>2018-04-18</td>\n",
       "      <td>Berlin, Berlin, Germany</td>\n",
       "      <td>Entire home/apt</td>\n",
       "      <td>Prenzlauer Berg Südwest</td>\n",
       "      <td>...</td>\n",
       "      <td>2020-10-15</td>\n",
       "      <td>97.0</td>\n",
       "      <td>10.0</td>\n",
       "      <td>10.0</td>\n",
       "      <td>10.0</td>\n",
       "      <td>10.0</td>\n",
       "      <td>10.0</td>\n",
       "      <td>9.0</td>\n",
       "      <td>3</td>\n",
       "      <td>2020-10-13</td>\n",
       "    </tr>\n",
       "    <tr>\n",
       "      <th>1045992</th>\n",
       "      <td>31872293</td>\n",
       "      <td>52.53022</td>\n",
       "      <td>13.41845</td>\n",
       "      <td>https://www.airbnb.com/rooms/31872293</td>\n",
       "      <td>184938172</td>\n",
       "      <td>Marcel</td>\n",
       "      <td>2018-04-18</td>\n",
       "      <td>Berlin, Berlin, Germany</td>\n",
       "      <td>Entire home/apt</td>\n",
       "      <td>Prenzlauer Berg Südwest</td>\n",
       "      <td>...</td>\n",
       "      <td>2020-10-18</td>\n",
       "      <td>96.0</td>\n",
       "      <td>10.0</td>\n",
       "      <td>9.0</td>\n",
       "      <td>10.0</td>\n",
       "      <td>9.0</td>\n",
       "      <td>10.0</td>\n",
       "      <td>9.0</td>\n",
       "      <td>3</td>\n",
       "      <td>2020-10-13</td>\n",
       "    </tr>\n",
       "    <tr>\n",
       "      <th>1045996</th>\n",
       "      <td>31856652</td>\n",
       "      <td>52.58254</td>\n",
       "      <td>13.33961</td>\n",
       "      <td>https://www.airbnb.com/rooms/31856652</td>\n",
       "      <td>215593431</td>\n",
       "      <td>Viktor</td>\n",
       "      <td>2018-09-15</td>\n",
       "      <td>Berlin, Berlin, Germany</td>\n",
       "      <td>Entire home/apt</td>\n",
       "      <td>Nord 2</td>\n",
       "      <td>...</td>\n",
       "      <td>2019-07-22</td>\n",
       "      <td>100.0</td>\n",
       "      <td>10.0</td>\n",
       "      <td>10.0</td>\n",
       "      <td>10.0</td>\n",
       "      <td>10.0</td>\n",
       "      <td>10.0</td>\n",
       "      <td>10.0</td>\n",
       "      <td>1</td>\n",
       "      <td>2020-10-13</td>\n",
       "    </tr>\n",
       "    <tr>\n",
       "      <th>1045997</th>\n",
       "      <td>2015</td>\n",
       "      <td>52.53454</td>\n",
       "      <td>13.40256</td>\n",
       "      <td>https://www.airbnb.com/rooms/2015</td>\n",
       "      <td>2217</td>\n",
       "      <td>Ion</td>\n",
       "      <td>2008-08-18</td>\n",
       "      <td>Key Biscayne, Florida, United States</td>\n",
       "      <td>Entire home/apt</td>\n",
       "      <td>Brunnenstr. Süd</td>\n",
       "      <td>...</td>\n",
       "      <td>2020-09-26</td>\n",
       "      <td>93.0</td>\n",
       "      <td>10.0</td>\n",
       "      <td>9.0</td>\n",
       "      <td>10.0</td>\n",
       "      <td>10.0</td>\n",
       "      <td>10.0</td>\n",
       "      <td>9.0</td>\n",
       "      <td>6</td>\n",
       "      <td>2020-10-13</td>\n",
       "    </tr>\n",
       "  </tbody>\n",
       "</table>\n",
       "<p>536756 rows × 23 columns</p>\n",
       "</div>"
      ],
      "text/plain": [
       "               id  latitude  longitude                            listing_url  \\\n",
       "0         2602460  52.60010   13.32972   https://www.airbnb.com/rooms/2602460   \n",
       "1         3637595  52.49110   13.41359   https://www.airbnb.com/rooms/3637595   \n",
       "2         6160418  52.49603   13.37990   https://www.airbnb.com/rooms/6160418   \n",
       "3         3588362  52.49348   13.39693   https://www.airbnb.com/rooms/3588362   \n",
       "4         6655897  52.48871   13.41666   https://www.airbnb.com/rooms/6655897   \n",
       "...           ...       ...        ...                                    ...   \n",
       "1045990  31871766  52.53022   13.41845  https://www.airbnb.com/rooms/31871766   \n",
       "1045991  31872207  52.53022   13.41845  https://www.airbnb.com/rooms/31872207   \n",
       "1045992  31872293  52.53022   13.41845  https://www.airbnb.com/rooms/31872293   \n",
       "1045996  31856652  52.58254   13.33961  https://www.airbnb.com/rooms/31856652   \n",
       "1045997      2015  52.53454   13.40256      https://www.airbnb.com/rooms/2015   \n",
       "\n",
       "           host_id          host_name  host_since  \\\n",
       "0         13315290              Flora  2014-03-19   \n",
       "1          4094666  Patricia Aulitzky  2012-11-08   \n",
       "2          1718617                Guy  2012-02-08   \n",
       "3         16739581                Ava  2014-06-13   \n",
       "4         34836886               Anna  2015-06-02   \n",
       "...            ...                ...         ...   \n",
       "1045990  184938172             Marcel  2018-04-18   \n",
       "1045991  184938172             Marcel  2018-04-18   \n",
       "1045992  184938172             Marcel  2018-04-18   \n",
       "1045996  215593431             Viktor  2018-09-15   \n",
       "1045997       2217                Ion  2008-08-18   \n",
       "\n",
       "                                host_location        room_type  \\\n",
       "0                     Berlin, Berlin, Germany  Entire home/apt   \n",
       "1                     Berlin, Berlin, Germany  Entire home/apt   \n",
       "2                     Berlin, Berlin, Germany  Entire home/apt   \n",
       "3                     Berlin, Berlin, Germany  Entire home/apt   \n",
       "4                     Berlin, Berlin, Germany  Entire home/apt   \n",
       "...                                       ...              ...   \n",
       "1045990               Berlin, Berlin, Germany  Entire home/apt   \n",
       "1045991               Berlin, Berlin, Germany  Entire home/apt   \n",
       "1045992               Berlin, Berlin, Germany  Entire home/apt   \n",
       "1045996               Berlin, Berlin, Germany  Entire home/apt   \n",
       "1045997  Key Biscayne, Florida, United States  Entire home/apt   \n",
       "\n",
       "          neighbourhood_cleansed  ... last_review  review_scores_rating  \\\n",
       "0                           MV 2  ...  2015-09-15                  93.0   \n",
       "1           Tempelhofer Vorstadt  ...  2015-09-30                  98.0   \n",
       "2           Tempelhofer Vorstadt  ...  2015-05-05                 100.0   \n",
       "3           Tempelhofer Vorstadt  ...  2015-09-14                  87.0   \n",
       "4           Tempelhofer Vorstadt  ...  2015-07-18                 100.0   \n",
       "...                          ...  ...         ...                   ...   \n",
       "1045990  Prenzlauer Berg Südwest  ...  2020-10-11                  96.0   \n",
       "1045991  Prenzlauer Berg Südwest  ...  2020-10-15                  97.0   \n",
       "1045992  Prenzlauer Berg Südwest  ...  2020-10-18                  96.0   \n",
       "1045996                   Nord 2  ...  2019-07-22                 100.0   \n",
       "1045997          Brunnenstr. Süd  ...  2020-09-26                  93.0   \n",
       "\n",
       "         review_scores_accuracy review_scores_cleanliness  \\\n",
       "0                           9.0                      10.0   \n",
       "1                          10.0                      10.0   \n",
       "2                          10.0                      10.0   \n",
       "3                           9.0                      10.0   \n",
       "4                          10.0                      10.0   \n",
       "...                         ...                       ...   \n",
       "1045990                    10.0                      10.0   \n",
       "1045991                    10.0                      10.0   \n",
       "1045992                    10.0                       9.0   \n",
       "1045996                    10.0                      10.0   \n",
       "1045997                    10.0                       9.0   \n",
       "\n",
       "         review_scores_checkin  review_scores_communication  \\\n",
       "0                         10.0                         10.0   \n",
       "1                         10.0                         10.0   \n",
       "2                         10.0                         10.0   \n",
       "3                          9.0                          8.0   \n",
       "4                         10.0                         10.0   \n",
       "...                        ...                          ...   \n",
       "1045990                   10.0                         10.0   \n",
       "1045991                   10.0                         10.0   \n",
       "1045992                   10.0                          9.0   \n",
       "1045996                   10.0                         10.0   \n",
       "1045997                   10.0                         10.0   \n",
       "\n",
       "         review_scores_location.1  review_scores_value  \\\n",
       "0                             9.0                  9.0   \n",
       "1                            10.0                  9.0   \n",
       "2                             8.0                  8.0   \n",
       "3                             9.0                  8.0   \n",
       "4                            10.0                 10.0   \n",
       "...                           ...                  ...   \n",
       "1045990                      10.0                  9.0   \n",
       "1045991                      10.0                  9.0   \n",
       "1045992                      10.0                  9.0   \n",
       "1045996                      10.0                 10.0   \n",
       "1045997                      10.0                  9.0   \n",
       "\n",
       "         calculated_host_listings_count        date  \n",
       "0                                     1  2015-10-03  \n",
       "1                                     1  2015-10-03  \n",
       "2                                     2  2015-10-03  \n",
       "3                                     2  2015-10-03  \n",
       "4                                     1  2015-10-03  \n",
       "...                                 ...         ...  \n",
       "1045990                               3  2020-10-13  \n",
       "1045991                               3  2020-10-13  \n",
       "1045992                               3  2020-10-13  \n",
       "1045996                               1  2020-10-13  \n",
       "1045997                               6  2020-10-13  \n",
       "\n",
       "[536756 rows x 23 columns]"
      ]
     },
     "execution_count": 7,
     "metadata": {},
     "output_type": "execute_result"
    }
   ],
   "source": [
    "df2=pd.read_csv('../Final/Berlin/merge_data_files/Entire_home_apt_new.csv',low_memory=False,index_col=0) \n",
    "df2"
   ]
  },
  {
   "cell_type": "code",
   "execution_count": 42,
   "metadata": {},
   "outputs": [
    {
     "name": "stderr",
     "output_type": "stream",
     "text": [
      "C:\\Users\\johnz\\anaconda3\\envs\\Air\\lib\\site-packages\\pandas\\core\\generic.py:5170: SettingWithCopyWarning:\n",
      "\n",
      "\n",
      "A value is trying to be set on a copy of a slice from a DataFrame.\n",
      "Try using .loc[row_indexer,col_indexer] = value instead\n",
      "\n",
      "See the caveats in the documentation: https://pandas.pydata.org/pandas-docs/stable/user_guide/indexing.html#returning-a-view-versus-a-copy\n",
      "\n"
     ]
    },
    {
     "data": {
      "text/html": [
       "<div>\n",
       "<style scoped>\n",
       "    .dataframe tbody tr th:only-of-type {\n",
       "        vertical-align: middle;\n",
       "    }\n",
       "\n",
       "    .dataframe tbody tr th {\n",
       "        vertical-align: top;\n",
       "    }\n",
       "\n",
       "    .dataframe thead th {\n",
       "        text-align: right;\n",
       "    }\n",
       "</style>\n",
       "<table border=\"1\" class=\"dataframe\">\n",
       "  <thead>\n",
       "    <tr style=\"text-align: right;\">\n",
       "      <th></th>\n",
       "      <th>count</th>\n",
       "      <th>mean</th>\n",
       "      <th>std</th>\n",
       "      <th>min</th>\n",
       "      <th>25%</th>\n",
       "      <th>50%</th>\n",
       "      <th>75%</th>\n",
       "      <th>max</th>\n",
       "    </tr>\n",
       "    <tr>\n",
       "      <th>date</th>\n",
       "      <th></th>\n",
       "      <th></th>\n",
       "      <th></th>\n",
       "      <th></th>\n",
       "      <th></th>\n",
       "      <th></th>\n",
       "      <th></th>\n",
       "      <th></th>\n",
       "    </tr>\n",
       "  </thead>\n",
       "  <tbody>\n",
       "    <tr>\n",
       "      <th>2015-10-03</th>\n",
       "      <td>268.0</td>\n",
       "      <td>79.414179</td>\n",
       "      <td>43.160402</td>\n",
       "      <td>35.0</td>\n",
       "      <td>57.50</td>\n",
       "      <td>70.0</td>\n",
       "      <td>89.25</td>\n",
       "      <td>500.0</td>\n",
       "    </tr>\n",
       "    <tr>\n",
       "      <th>2015-11-08</th>\n",
       "      <td>265.0</td>\n",
       "      <td>77.358491</td>\n",
       "      <td>42.103361</td>\n",
       "      <td>25.0</td>\n",
       "      <td>55.00</td>\n",
       "      <td>69.0</td>\n",
       "      <td>89.00</td>\n",
       "      <td>500.0</td>\n",
       "    </tr>\n",
       "    <tr>\n",
       "      <th>2015-12-05</th>\n",
       "      <td>291.0</td>\n",
       "      <td>76.140893</td>\n",
       "      <td>40.509055</td>\n",
       "      <td>30.0</td>\n",
       "      <td>55.00</td>\n",
       "      <td>65.0</td>\n",
       "      <td>88.00</td>\n",
       "      <td>500.0</td>\n",
       "    </tr>\n",
       "    <tr>\n",
       "      <th>2016-01-04</th>\n",
       "      <td>312.0</td>\n",
       "      <td>78.240385</td>\n",
       "      <td>49.815963</td>\n",
       "      <td>30.0</td>\n",
       "      <td>55.00</td>\n",
       "      <td>65.0</td>\n",
       "      <td>88.00</td>\n",
       "      <td>581.0</td>\n",
       "    </tr>\n",
       "    <tr>\n",
       "      <th>2016-02-04</th>\n",
       "      <td>308.0</td>\n",
       "      <td>76.860390</td>\n",
       "      <td>50.346648</td>\n",
       "      <td>30.0</td>\n",
       "      <td>51.75</td>\n",
       "      <td>65.0</td>\n",
       "      <td>85.50</td>\n",
       "      <td>580.0</td>\n",
       "    </tr>\n",
       "  </tbody>\n",
       "</table>\n",
       "</div>"
      ],
      "text/plain": [
       "            count       mean        std   min    25%   50%    75%    max\n",
       "date                                                                    \n",
       "2015-10-03  268.0  79.414179  43.160402  35.0  57.50  70.0  89.25  500.0\n",
       "2015-11-08  265.0  77.358491  42.103361  25.0  55.00  69.0  89.00  500.0\n",
       "2015-12-05  291.0  76.140893  40.509055  30.0  55.00  65.0  88.00  500.0\n",
       "2016-01-04  312.0  78.240385  49.815963  30.0  55.00  65.0  88.00  581.0\n",
       "2016-02-04  308.0  76.860390  50.346648  30.0  51.75  65.0  85.50  580.0"
      ]
     },
     "execution_count": 42,
     "metadata": {},
     "output_type": "execute_result"
    }
   ],
   "source": [
    "df=df2.loc[df2.neighbourhood_cleansed=='Prenzlauer Berg Süd']\n",
    "df.date = pd.to_datetime(df.date, format='%Y-%m-%d')\n",
    "df3 = df.groupby(['date']).describe()['price']\n",
    "df3.head()"
   ]
  },
  {
   "cell_type": "code",
   "execution_count": 43,
   "metadata": {},
   "outputs": [
    {
     "data": {
      "application/vnd.plotly.v1+json": {
       "config": {
        "plotlyServerURL": "https://plot.ly"
       },
       "data": [
        {
         "hovertemplate": "variable=25%<br>date=%{x}<br>value=%{y}<extra></extra>",
         "legendgroup": "25%",
         "line": {
          "color": "#636efa",
          "dash": "solid"
         },
         "mode": "lines",
         "name": "25%",
         "orientation": "v",
         "showlegend": true,
         "type": "scatter",
         "x": [
          "2015-10-03T00:00:00",
          "2015-11-08T00:00:00",
          "2015-12-05T00:00:00",
          "2016-01-04T00:00:00",
          "2016-02-04T00:00:00",
          "2016-04-04T00:00:00",
          "2016-05-03T00:00:00",
          "2016-06-03T00:00:00",
          "2016-07-05T00:00:00",
          "2016-08-04T00:00:00",
          "2016-09-05T00:00:00",
          "2016-10-04T00:00:00",
          "2016-11-07T00:00:00",
          "2016-12-08T00:00:00",
          "2017-01-06T00:00:00",
          "2017-02-10T00:00:00",
          "2017-03-06T00:00:00",
          "2017-04-08T00:00:00",
          "2017-05-08T00:00:00",
          "2018-04-12T00:00:00",
          "2018-05-14T00:00:00",
          "2018-06-09T00:00:00",
          "2018-07-10T00:00:00",
          "2018-08-14T00:00:00",
          "2018-09-12T00:00:00",
          "2018-10-10T00:00:00",
          "2018-11-07T00:00:00",
          "2018-12-10T00:00:00",
          "2019-01-14T00:00:00",
          "2019-02-06T00:00:00",
          "2019-03-08T00:00:00",
          "2019-04-11T00:00:00",
          "2019-05-14T00:00:00",
          "2019-06-08T00:00:00",
          "2019-07-11T00:00:00",
          "2019-08-12T00:00:00",
          "2019-09-19T00:00:00",
          "2019-10-16T00:00:00",
          "2019-11-12T00:00:00",
          "2019-12-11T00:00:00",
          "2020-01-10T00:00:00",
          "2020-02-18T00:00:00",
          "2020-03-17T00:00:00",
          "2020-04-17T00:00:00",
          "2020-05-14T00:00:00",
          "2020-06-13T00:00:00",
          "2020-08-30T00:00:00",
          "2020-09-23T00:00:00",
          "2020-10-13T00:00:00"
         ],
         "xaxis": "x",
         "y": [
          57.5,
          55,
          55,
          55,
          51.75,
          52,
          50,
          54,
          50,
          50,
          50,
          54.5,
          52,
          54,
          54.75,
          52.25,
          55,
          55,
          55,
          55,
          55,
          55,
          55,
          55,
          54.5,
          55,
          55,
          55,
          55,
          55,
          55,
          55,
          55,
          55.25,
          57.75,
          59,
          59,
          58.5,
          59,
          59,
          59,
          59,
          59,
          59,
          58,
          59,
          60,
          60,
          60
         ],
         "yaxis": "y"
        },
        {
         "hovertemplate": "variable=50%<br>date=%{x}<br>value=%{y}<extra></extra>",
         "legendgroup": "50%",
         "line": {
          "color": "#EF553B",
          "dash": "solid"
         },
         "mode": "lines",
         "name": "50%",
         "orientation": "v",
         "showlegend": true,
         "type": "scatter",
         "x": [
          "2015-10-03T00:00:00",
          "2015-11-08T00:00:00",
          "2015-12-05T00:00:00",
          "2016-01-04T00:00:00",
          "2016-02-04T00:00:00",
          "2016-04-04T00:00:00",
          "2016-05-03T00:00:00",
          "2016-06-03T00:00:00",
          "2016-07-05T00:00:00",
          "2016-08-04T00:00:00",
          "2016-09-05T00:00:00",
          "2016-10-04T00:00:00",
          "2016-11-07T00:00:00",
          "2016-12-08T00:00:00",
          "2017-01-06T00:00:00",
          "2017-02-10T00:00:00",
          "2017-03-06T00:00:00",
          "2017-04-08T00:00:00",
          "2017-05-08T00:00:00",
          "2018-04-12T00:00:00",
          "2018-05-14T00:00:00",
          "2018-06-09T00:00:00",
          "2018-07-10T00:00:00",
          "2018-08-14T00:00:00",
          "2018-09-12T00:00:00",
          "2018-10-10T00:00:00",
          "2018-11-07T00:00:00",
          "2018-12-10T00:00:00",
          "2019-01-14T00:00:00",
          "2019-02-06T00:00:00",
          "2019-03-08T00:00:00",
          "2019-04-11T00:00:00",
          "2019-05-14T00:00:00",
          "2019-06-08T00:00:00",
          "2019-07-11T00:00:00",
          "2019-08-12T00:00:00",
          "2019-09-19T00:00:00",
          "2019-10-16T00:00:00",
          "2019-11-12T00:00:00",
          "2019-12-11T00:00:00",
          "2020-01-10T00:00:00",
          "2020-02-18T00:00:00",
          "2020-03-17T00:00:00",
          "2020-04-17T00:00:00",
          "2020-05-14T00:00:00",
          "2020-06-13T00:00:00",
          "2020-08-30T00:00:00",
          "2020-09-23T00:00:00",
          "2020-10-13T00:00:00"
         ],
         "xaxis": "x",
         "y": [
          70,
          69,
          65,
          65,
          65,
          65,
          65,
          67,
          67,
          67,
          69,
          70,
          69,
          70,
          70,
          69.5,
          70,
          70,
          70,
          70,
          70,
          70,
          70,
          70,
          70,
          70,
          70,
          70,
          70,
          70,
          70,
          70,
          70,
          75,
          75,
          75.5,
          76,
          79,
          79,
          79,
          79,
          76,
          76,
          75,
          75,
          75,
          79,
          80,
          79
         ],
         "yaxis": "y"
        },
        {
         "hovertemplate": "variable=75%<br>date=%{x}<br>value=%{y}<extra></extra>",
         "legendgroup": "75%",
         "line": {
          "color": "#00cc96",
          "dash": "solid"
         },
         "mode": "lines",
         "name": "75%",
         "orientation": "v",
         "showlegend": true,
         "type": "scatter",
         "x": [
          "2015-10-03T00:00:00",
          "2015-11-08T00:00:00",
          "2015-12-05T00:00:00",
          "2016-01-04T00:00:00",
          "2016-02-04T00:00:00",
          "2016-04-04T00:00:00",
          "2016-05-03T00:00:00",
          "2016-06-03T00:00:00",
          "2016-07-05T00:00:00",
          "2016-08-04T00:00:00",
          "2016-09-05T00:00:00",
          "2016-10-04T00:00:00",
          "2016-11-07T00:00:00",
          "2016-12-08T00:00:00",
          "2017-01-06T00:00:00",
          "2017-02-10T00:00:00",
          "2017-03-06T00:00:00",
          "2017-04-08T00:00:00",
          "2017-05-08T00:00:00",
          "2018-04-12T00:00:00",
          "2018-05-14T00:00:00",
          "2018-06-09T00:00:00",
          "2018-07-10T00:00:00",
          "2018-08-14T00:00:00",
          "2018-09-12T00:00:00",
          "2018-10-10T00:00:00",
          "2018-11-07T00:00:00",
          "2018-12-10T00:00:00",
          "2019-01-14T00:00:00",
          "2019-02-06T00:00:00",
          "2019-03-08T00:00:00",
          "2019-04-11T00:00:00",
          "2019-05-14T00:00:00",
          "2019-06-08T00:00:00",
          "2019-07-11T00:00:00",
          "2019-08-12T00:00:00",
          "2019-09-19T00:00:00",
          "2019-10-16T00:00:00",
          "2019-11-12T00:00:00",
          "2019-12-11T00:00:00",
          "2020-01-10T00:00:00",
          "2020-02-18T00:00:00",
          "2020-03-17T00:00:00",
          "2020-04-17T00:00:00",
          "2020-05-14T00:00:00",
          "2020-06-13T00:00:00",
          "2020-08-30T00:00:00",
          "2020-09-23T00:00:00",
          "2020-10-13T00:00:00"
         ],
         "xaxis": "x",
         "y": [
          89.25,
          89,
          88,
          88,
          85.5,
          85,
          85,
          89,
          85,
          87,
          87,
          89,
          90,
          90,
          94.25,
          95,
          95,
          94.25,
          93.5,
          90,
          89,
          90,
          90,
          95,
          95,
          98.75,
          95,
          94,
          99,
          99,
          99,
          99,
          99.25,
          100,
          100,
          100,
          100,
          100,
          100,
          100,
          100,
          100,
          100,
          100,
          100,
          100,
          108.8925,
          105.71,
          105.75
         ],
         "yaxis": "y"
        }
       ],
       "layout": {
        "legend": {
         "title": {
          "text": "variable"
         },
         "tracegroupgap": 0
        },
        "margin": {
         "t": 60
        },
        "template": {
         "data": {
          "bar": [
           {
            "error_x": {
             "color": "#2a3f5f"
            },
            "error_y": {
             "color": "#2a3f5f"
            },
            "marker": {
             "line": {
              "color": "#E5ECF6",
              "width": 0.5
             }
            },
            "type": "bar"
           }
          ],
          "barpolar": [
           {
            "marker": {
             "line": {
              "color": "#E5ECF6",
              "width": 0.5
             }
            },
            "type": "barpolar"
           }
          ],
          "carpet": [
           {
            "aaxis": {
             "endlinecolor": "#2a3f5f",
             "gridcolor": "white",
             "linecolor": "white",
             "minorgridcolor": "white",
             "startlinecolor": "#2a3f5f"
            },
            "baxis": {
             "endlinecolor": "#2a3f5f",
             "gridcolor": "white",
             "linecolor": "white",
             "minorgridcolor": "white",
             "startlinecolor": "#2a3f5f"
            },
            "type": "carpet"
           }
          ],
          "choropleth": [
           {
            "colorbar": {
             "outlinewidth": 0,
             "ticks": ""
            },
            "type": "choropleth"
           }
          ],
          "contour": [
           {
            "colorbar": {
             "outlinewidth": 0,
             "ticks": ""
            },
            "colorscale": [
             [
              0,
              "#0d0887"
             ],
             [
              0.1111111111111111,
              "#46039f"
             ],
             [
              0.2222222222222222,
              "#7201a8"
             ],
             [
              0.3333333333333333,
              "#9c179e"
             ],
             [
              0.4444444444444444,
              "#bd3786"
             ],
             [
              0.5555555555555556,
              "#d8576b"
             ],
             [
              0.6666666666666666,
              "#ed7953"
             ],
             [
              0.7777777777777778,
              "#fb9f3a"
             ],
             [
              0.8888888888888888,
              "#fdca26"
             ],
             [
              1,
              "#f0f921"
             ]
            ],
            "type": "contour"
           }
          ],
          "contourcarpet": [
           {
            "colorbar": {
             "outlinewidth": 0,
             "ticks": ""
            },
            "type": "contourcarpet"
           }
          ],
          "heatmap": [
           {
            "colorbar": {
             "outlinewidth": 0,
             "ticks": ""
            },
            "colorscale": [
             [
              0,
              "#0d0887"
             ],
             [
              0.1111111111111111,
              "#46039f"
             ],
             [
              0.2222222222222222,
              "#7201a8"
             ],
             [
              0.3333333333333333,
              "#9c179e"
             ],
             [
              0.4444444444444444,
              "#bd3786"
             ],
             [
              0.5555555555555556,
              "#d8576b"
             ],
             [
              0.6666666666666666,
              "#ed7953"
             ],
             [
              0.7777777777777778,
              "#fb9f3a"
             ],
             [
              0.8888888888888888,
              "#fdca26"
             ],
             [
              1,
              "#f0f921"
             ]
            ],
            "type": "heatmap"
           }
          ],
          "heatmapgl": [
           {
            "colorbar": {
             "outlinewidth": 0,
             "ticks": ""
            },
            "colorscale": [
             [
              0,
              "#0d0887"
             ],
             [
              0.1111111111111111,
              "#46039f"
             ],
             [
              0.2222222222222222,
              "#7201a8"
             ],
             [
              0.3333333333333333,
              "#9c179e"
             ],
             [
              0.4444444444444444,
              "#bd3786"
             ],
             [
              0.5555555555555556,
              "#d8576b"
             ],
             [
              0.6666666666666666,
              "#ed7953"
             ],
             [
              0.7777777777777778,
              "#fb9f3a"
             ],
             [
              0.8888888888888888,
              "#fdca26"
             ],
             [
              1,
              "#f0f921"
             ]
            ],
            "type": "heatmapgl"
           }
          ],
          "histogram": [
           {
            "marker": {
             "colorbar": {
              "outlinewidth": 0,
              "ticks": ""
             }
            },
            "type": "histogram"
           }
          ],
          "histogram2d": [
           {
            "colorbar": {
             "outlinewidth": 0,
             "ticks": ""
            },
            "colorscale": [
             [
              0,
              "#0d0887"
             ],
             [
              0.1111111111111111,
              "#46039f"
             ],
             [
              0.2222222222222222,
              "#7201a8"
             ],
             [
              0.3333333333333333,
              "#9c179e"
             ],
             [
              0.4444444444444444,
              "#bd3786"
             ],
             [
              0.5555555555555556,
              "#d8576b"
             ],
             [
              0.6666666666666666,
              "#ed7953"
             ],
             [
              0.7777777777777778,
              "#fb9f3a"
             ],
             [
              0.8888888888888888,
              "#fdca26"
             ],
             [
              1,
              "#f0f921"
             ]
            ],
            "type": "histogram2d"
           }
          ],
          "histogram2dcontour": [
           {
            "colorbar": {
             "outlinewidth": 0,
             "ticks": ""
            },
            "colorscale": [
             [
              0,
              "#0d0887"
             ],
             [
              0.1111111111111111,
              "#46039f"
             ],
             [
              0.2222222222222222,
              "#7201a8"
             ],
             [
              0.3333333333333333,
              "#9c179e"
             ],
             [
              0.4444444444444444,
              "#bd3786"
             ],
             [
              0.5555555555555556,
              "#d8576b"
             ],
             [
              0.6666666666666666,
              "#ed7953"
             ],
             [
              0.7777777777777778,
              "#fb9f3a"
             ],
             [
              0.8888888888888888,
              "#fdca26"
             ],
             [
              1,
              "#f0f921"
             ]
            ],
            "type": "histogram2dcontour"
           }
          ],
          "mesh3d": [
           {
            "colorbar": {
             "outlinewidth": 0,
             "ticks": ""
            },
            "type": "mesh3d"
           }
          ],
          "parcoords": [
           {
            "line": {
             "colorbar": {
              "outlinewidth": 0,
              "ticks": ""
             }
            },
            "type": "parcoords"
           }
          ],
          "pie": [
           {
            "automargin": true,
            "type": "pie"
           }
          ],
          "scatter": [
           {
            "marker": {
             "colorbar": {
              "outlinewidth": 0,
              "ticks": ""
             }
            },
            "type": "scatter"
           }
          ],
          "scatter3d": [
           {
            "line": {
             "colorbar": {
              "outlinewidth": 0,
              "ticks": ""
             }
            },
            "marker": {
             "colorbar": {
              "outlinewidth": 0,
              "ticks": ""
             }
            },
            "type": "scatter3d"
           }
          ],
          "scattercarpet": [
           {
            "marker": {
             "colorbar": {
              "outlinewidth": 0,
              "ticks": ""
             }
            },
            "type": "scattercarpet"
           }
          ],
          "scattergeo": [
           {
            "marker": {
             "colorbar": {
              "outlinewidth": 0,
              "ticks": ""
             }
            },
            "type": "scattergeo"
           }
          ],
          "scattergl": [
           {
            "marker": {
             "colorbar": {
              "outlinewidth": 0,
              "ticks": ""
             }
            },
            "type": "scattergl"
           }
          ],
          "scattermapbox": [
           {
            "marker": {
             "colorbar": {
              "outlinewidth": 0,
              "ticks": ""
             }
            },
            "type": "scattermapbox"
           }
          ],
          "scatterpolar": [
           {
            "marker": {
             "colorbar": {
              "outlinewidth": 0,
              "ticks": ""
             }
            },
            "type": "scatterpolar"
           }
          ],
          "scatterpolargl": [
           {
            "marker": {
             "colorbar": {
              "outlinewidth": 0,
              "ticks": ""
             }
            },
            "type": "scatterpolargl"
           }
          ],
          "scatterternary": [
           {
            "marker": {
             "colorbar": {
              "outlinewidth": 0,
              "ticks": ""
             }
            },
            "type": "scatterternary"
           }
          ],
          "surface": [
           {
            "colorbar": {
             "outlinewidth": 0,
             "ticks": ""
            },
            "colorscale": [
             [
              0,
              "#0d0887"
             ],
             [
              0.1111111111111111,
              "#46039f"
             ],
             [
              0.2222222222222222,
              "#7201a8"
             ],
             [
              0.3333333333333333,
              "#9c179e"
             ],
             [
              0.4444444444444444,
              "#bd3786"
             ],
             [
              0.5555555555555556,
              "#d8576b"
             ],
             [
              0.6666666666666666,
              "#ed7953"
             ],
             [
              0.7777777777777778,
              "#fb9f3a"
             ],
             [
              0.8888888888888888,
              "#fdca26"
             ],
             [
              1,
              "#f0f921"
             ]
            ],
            "type": "surface"
           }
          ],
          "table": [
           {
            "cells": {
             "fill": {
              "color": "#EBF0F8"
             },
             "line": {
              "color": "white"
             }
            },
            "header": {
             "fill": {
              "color": "#C8D4E3"
             },
             "line": {
              "color": "white"
             }
            },
            "type": "table"
           }
          ]
         },
         "layout": {
          "annotationdefaults": {
           "arrowcolor": "#2a3f5f",
           "arrowhead": 0,
           "arrowwidth": 1
          },
          "autotypenumbers": "strict",
          "coloraxis": {
           "colorbar": {
            "outlinewidth": 0,
            "ticks": ""
           }
          },
          "colorscale": {
           "diverging": [
            [
             0,
             "#8e0152"
            ],
            [
             0.1,
             "#c51b7d"
            ],
            [
             0.2,
             "#de77ae"
            ],
            [
             0.3,
             "#f1b6da"
            ],
            [
             0.4,
             "#fde0ef"
            ],
            [
             0.5,
             "#f7f7f7"
            ],
            [
             0.6,
             "#e6f5d0"
            ],
            [
             0.7,
             "#b8e186"
            ],
            [
             0.8,
             "#7fbc41"
            ],
            [
             0.9,
             "#4d9221"
            ],
            [
             1,
             "#276419"
            ]
           ],
           "sequential": [
            [
             0,
             "#0d0887"
            ],
            [
             0.1111111111111111,
             "#46039f"
            ],
            [
             0.2222222222222222,
             "#7201a8"
            ],
            [
             0.3333333333333333,
             "#9c179e"
            ],
            [
             0.4444444444444444,
             "#bd3786"
            ],
            [
             0.5555555555555556,
             "#d8576b"
            ],
            [
             0.6666666666666666,
             "#ed7953"
            ],
            [
             0.7777777777777778,
             "#fb9f3a"
            ],
            [
             0.8888888888888888,
             "#fdca26"
            ],
            [
             1,
             "#f0f921"
            ]
           ],
           "sequentialminus": [
            [
             0,
             "#0d0887"
            ],
            [
             0.1111111111111111,
             "#46039f"
            ],
            [
             0.2222222222222222,
             "#7201a8"
            ],
            [
             0.3333333333333333,
             "#9c179e"
            ],
            [
             0.4444444444444444,
             "#bd3786"
            ],
            [
             0.5555555555555556,
             "#d8576b"
            ],
            [
             0.6666666666666666,
             "#ed7953"
            ],
            [
             0.7777777777777778,
             "#fb9f3a"
            ],
            [
             0.8888888888888888,
             "#fdca26"
            ],
            [
             1,
             "#f0f921"
            ]
           ]
          },
          "colorway": [
           "#636efa",
           "#EF553B",
           "#00cc96",
           "#ab63fa",
           "#FFA15A",
           "#19d3f3",
           "#FF6692",
           "#B6E880",
           "#FF97FF",
           "#FECB52"
          ],
          "font": {
           "color": "#2a3f5f"
          },
          "geo": {
           "bgcolor": "white",
           "lakecolor": "white",
           "landcolor": "#E5ECF6",
           "showlakes": true,
           "showland": true,
           "subunitcolor": "white"
          },
          "hoverlabel": {
           "align": "left"
          },
          "hovermode": "closest",
          "mapbox": {
           "style": "light"
          },
          "paper_bgcolor": "white",
          "plot_bgcolor": "#E5ECF6",
          "polar": {
           "angularaxis": {
            "gridcolor": "white",
            "linecolor": "white",
            "ticks": ""
           },
           "bgcolor": "#E5ECF6",
           "radialaxis": {
            "gridcolor": "white",
            "linecolor": "white",
            "ticks": ""
           }
          },
          "scene": {
           "xaxis": {
            "backgroundcolor": "#E5ECF6",
            "gridcolor": "white",
            "gridwidth": 2,
            "linecolor": "white",
            "showbackground": true,
            "ticks": "",
            "zerolinecolor": "white"
           },
           "yaxis": {
            "backgroundcolor": "#E5ECF6",
            "gridcolor": "white",
            "gridwidth": 2,
            "linecolor": "white",
            "showbackground": true,
            "ticks": "",
            "zerolinecolor": "white"
           },
           "zaxis": {
            "backgroundcolor": "#E5ECF6",
            "gridcolor": "white",
            "gridwidth": 2,
            "linecolor": "white",
            "showbackground": true,
            "ticks": "",
            "zerolinecolor": "white"
           }
          },
          "shapedefaults": {
           "line": {
            "color": "#2a3f5f"
           }
          },
          "ternary": {
           "aaxis": {
            "gridcolor": "white",
            "linecolor": "white",
            "ticks": ""
           },
           "baxis": {
            "gridcolor": "white",
            "linecolor": "white",
            "ticks": ""
           },
           "bgcolor": "#E5ECF6",
           "caxis": {
            "gridcolor": "white",
            "linecolor": "white",
            "ticks": ""
           }
          },
          "title": {
           "x": 0.05
          },
          "xaxis": {
           "automargin": true,
           "gridcolor": "white",
           "linecolor": "white",
           "ticks": "",
           "title": {
            "standoff": 15
           },
           "zerolinecolor": "white",
           "zerolinewidth": 2
          },
          "yaxis": {
           "automargin": true,
           "gridcolor": "white",
           "linecolor": "white",
           "ticks": "",
           "title": {
            "standoff": 15
           },
           "zerolinecolor": "white",
           "zerolinewidth": 2
          }
         }
        },
        "xaxis": {
         "anchor": "y",
         "domain": [
          0,
          1
         ],
         "title": {
          "text": "date"
         }
        },
        "yaxis": {
         "anchor": "x",
         "domain": [
          0,
          1
         ],
         "title": {
          "text": "value"
         }
        }
       }
      },
      "text/html": [
       "<div>                            <div id=\"0d2eed2d-8db8-434d-9f92-1212db083272\" class=\"plotly-graph-div\" style=\"height:525px; width:100%;\"></div>            <script type=\"text/javascript\">                require([\"plotly\"], function(Plotly) {                    window.PLOTLYENV=window.PLOTLYENV || {};                                    if (document.getElementById(\"0d2eed2d-8db8-434d-9f92-1212db083272\")) {                    Plotly.newPlot(                        \"0d2eed2d-8db8-434d-9f92-1212db083272\",                        [{\"hovertemplate\": \"variable=25%<br>date=%{x}<br>value=%{y}<extra></extra>\", \"legendgroup\": \"25%\", \"line\": {\"color\": \"#636efa\", \"dash\": \"solid\"}, \"mode\": \"lines\", \"name\": \"25%\", \"orientation\": \"v\", \"showlegend\": true, \"type\": \"scatter\", \"x\": [\"2015-10-03T00:00:00\", \"2015-11-08T00:00:00\", \"2015-12-05T00:00:00\", \"2016-01-04T00:00:00\", \"2016-02-04T00:00:00\", \"2016-04-04T00:00:00\", \"2016-05-03T00:00:00\", \"2016-06-03T00:00:00\", \"2016-07-05T00:00:00\", \"2016-08-04T00:00:00\", \"2016-09-05T00:00:00\", \"2016-10-04T00:00:00\", \"2016-11-07T00:00:00\", \"2016-12-08T00:00:00\", \"2017-01-06T00:00:00\", \"2017-02-10T00:00:00\", \"2017-03-06T00:00:00\", \"2017-04-08T00:00:00\", \"2017-05-08T00:00:00\", \"2018-04-12T00:00:00\", \"2018-05-14T00:00:00\", \"2018-06-09T00:00:00\", \"2018-07-10T00:00:00\", \"2018-08-14T00:00:00\", \"2018-09-12T00:00:00\", \"2018-10-10T00:00:00\", \"2018-11-07T00:00:00\", \"2018-12-10T00:00:00\", \"2019-01-14T00:00:00\", \"2019-02-06T00:00:00\", \"2019-03-08T00:00:00\", \"2019-04-11T00:00:00\", \"2019-05-14T00:00:00\", \"2019-06-08T00:00:00\", \"2019-07-11T00:00:00\", \"2019-08-12T00:00:00\", \"2019-09-19T00:00:00\", \"2019-10-16T00:00:00\", \"2019-11-12T00:00:00\", \"2019-12-11T00:00:00\", \"2020-01-10T00:00:00\", \"2020-02-18T00:00:00\", \"2020-03-17T00:00:00\", \"2020-04-17T00:00:00\", \"2020-05-14T00:00:00\", \"2020-06-13T00:00:00\", \"2020-08-30T00:00:00\", \"2020-09-23T00:00:00\", \"2020-10-13T00:00:00\"], \"xaxis\": \"x\", \"y\": [57.5, 55.0, 55.0, 55.0, 51.75, 52.0, 50.0, 54.0, 50.0, 50.0, 50.0, 54.5, 52.0, 54.0, 54.75, 52.25, 55.0, 55.0, 55.0, 55.0, 55.0, 55.0, 55.0, 55.0, 54.5, 55.0, 55.0, 55.0, 55.0, 55.0, 55.0, 55.0, 55.0, 55.25, 57.75, 59.0, 59.0, 58.5, 59.0, 59.0, 59.0, 59.0, 59.0, 59.0, 58.0, 59.0, 60.0, 60.0, 60.0], \"yaxis\": \"y\"}, {\"hovertemplate\": \"variable=50%<br>date=%{x}<br>value=%{y}<extra></extra>\", \"legendgroup\": \"50%\", \"line\": {\"color\": \"#EF553B\", \"dash\": \"solid\"}, \"mode\": \"lines\", \"name\": \"50%\", \"orientation\": \"v\", \"showlegend\": true, \"type\": \"scatter\", \"x\": [\"2015-10-03T00:00:00\", \"2015-11-08T00:00:00\", \"2015-12-05T00:00:00\", \"2016-01-04T00:00:00\", \"2016-02-04T00:00:00\", \"2016-04-04T00:00:00\", \"2016-05-03T00:00:00\", \"2016-06-03T00:00:00\", \"2016-07-05T00:00:00\", \"2016-08-04T00:00:00\", \"2016-09-05T00:00:00\", \"2016-10-04T00:00:00\", \"2016-11-07T00:00:00\", \"2016-12-08T00:00:00\", \"2017-01-06T00:00:00\", \"2017-02-10T00:00:00\", \"2017-03-06T00:00:00\", \"2017-04-08T00:00:00\", \"2017-05-08T00:00:00\", \"2018-04-12T00:00:00\", \"2018-05-14T00:00:00\", \"2018-06-09T00:00:00\", \"2018-07-10T00:00:00\", \"2018-08-14T00:00:00\", \"2018-09-12T00:00:00\", \"2018-10-10T00:00:00\", \"2018-11-07T00:00:00\", \"2018-12-10T00:00:00\", \"2019-01-14T00:00:00\", \"2019-02-06T00:00:00\", \"2019-03-08T00:00:00\", \"2019-04-11T00:00:00\", \"2019-05-14T00:00:00\", \"2019-06-08T00:00:00\", \"2019-07-11T00:00:00\", \"2019-08-12T00:00:00\", \"2019-09-19T00:00:00\", \"2019-10-16T00:00:00\", \"2019-11-12T00:00:00\", \"2019-12-11T00:00:00\", \"2020-01-10T00:00:00\", \"2020-02-18T00:00:00\", \"2020-03-17T00:00:00\", \"2020-04-17T00:00:00\", \"2020-05-14T00:00:00\", \"2020-06-13T00:00:00\", \"2020-08-30T00:00:00\", \"2020-09-23T00:00:00\", \"2020-10-13T00:00:00\"], \"xaxis\": \"x\", \"y\": [70.0, 69.0, 65.0, 65.0, 65.0, 65.0, 65.0, 67.0, 67.0, 67.0, 69.0, 70.0, 69.0, 70.0, 70.0, 69.5, 70.0, 70.0, 70.0, 70.0, 70.0, 70.0, 70.0, 70.0, 70.0, 70.0, 70.0, 70.0, 70.0, 70.0, 70.0, 70.0, 70.0, 75.0, 75.0, 75.5, 76.0, 79.0, 79.0, 79.0, 79.0, 76.0, 76.0, 75.0, 75.0, 75.0, 79.0, 80.0, 79.0], \"yaxis\": \"y\"}, {\"hovertemplate\": \"variable=75%<br>date=%{x}<br>value=%{y}<extra></extra>\", \"legendgroup\": \"75%\", \"line\": {\"color\": \"#00cc96\", \"dash\": \"solid\"}, \"mode\": \"lines\", \"name\": \"75%\", \"orientation\": \"v\", \"showlegend\": true, \"type\": \"scatter\", \"x\": [\"2015-10-03T00:00:00\", \"2015-11-08T00:00:00\", \"2015-12-05T00:00:00\", \"2016-01-04T00:00:00\", \"2016-02-04T00:00:00\", \"2016-04-04T00:00:00\", \"2016-05-03T00:00:00\", \"2016-06-03T00:00:00\", \"2016-07-05T00:00:00\", \"2016-08-04T00:00:00\", \"2016-09-05T00:00:00\", \"2016-10-04T00:00:00\", \"2016-11-07T00:00:00\", \"2016-12-08T00:00:00\", \"2017-01-06T00:00:00\", \"2017-02-10T00:00:00\", \"2017-03-06T00:00:00\", \"2017-04-08T00:00:00\", \"2017-05-08T00:00:00\", \"2018-04-12T00:00:00\", \"2018-05-14T00:00:00\", \"2018-06-09T00:00:00\", \"2018-07-10T00:00:00\", \"2018-08-14T00:00:00\", \"2018-09-12T00:00:00\", \"2018-10-10T00:00:00\", \"2018-11-07T00:00:00\", \"2018-12-10T00:00:00\", \"2019-01-14T00:00:00\", \"2019-02-06T00:00:00\", \"2019-03-08T00:00:00\", \"2019-04-11T00:00:00\", \"2019-05-14T00:00:00\", \"2019-06-08T00:00:00\", \"2019-07-11T00:00:00\", \"2019-08-12T00:00:00\", \"2019-09-19T00:00:00\", \"2019-10-16T00:00:00\", \"2019-11-12T00:00:00\", \"2019-12-11T00:00:00\", \"2020-01-10T00:00:00\", \"2020-02-18T00:00:00\", \"2020-03-17T00:00:00\", \"2020-04-17T00:00:00\", \"2020-05-14T00:00:00\", \"2020-06-13T00:00:00\", \"2020-08-30T00:00:00\", \"2020-09-23T00:00:00\", \"2020-10-13T00:00:00\"], \"xaxis\": \"x\", \"y\": [89.25, 89.0, 88.0, 88.0, 85.5, 85.0, 85.0, 89.0, 85.0, 87.0, 87.0, 89.0, 90.0, 90.0, 94.25, 95.0, 95.0, 94.25, 93.5, 90.0, 89.0, 90.0, 90.0, 95.0, 95.0, 98.75, 95.0, 94.0, 99.0, 99.0, 99.0, 99.0, 99.25, 100.0, 100.0, 100.0, 100.0, 100.0, 100.0, 100.0, 100.0, 100.0, 100.0, 100.0, 100.0, 100.0, 108.8925, 105.71, 105.75], \"yaxis\": \"y\"}],                        {\"legend\": {\"title\": {\"text\": \"variable\"}, \"tracegroupgap\": 0}, \"margin\": {\"t\": 60}, \"template\": {\"data\": {\"bar\": [{\"error_x\": {\"color\": \"#2a3f5f\"}, \"error_y\": {\"color\": \"#2a3f5f\"}, \"marker\": {\"line\": {\"color\": \"#E5ECF6\", \"width\": 0.5}}, \"type\": \"bar\"}], \"barpolar\": [{\"marker\": {\"line\": {\"color\": \"#E5ECF6\", \"width\": 0.5}}, \"type\": \"barpolar\"}], \"carpet\": [{\"aaxis\": {\"endlinecolor\": \"#2a3f5f\", \"gridcolor\": \"white\", \"linecolor\": \"white\", \"minorgridcolor\": \"white\", \"startlinecolor\": \"#2a3f5f\"}, \"baxis\": {\"endlinecolor\": \"#2a3f5f\", \"gridcolor\": \"white\", \"linecolor\": \"white\", \"minorgridcolor\": \"white\", \"startlinecolor\": \"#2a3f5f\"}, \"type\": \"carpet\"}], \"choropleth\": [{\"colorbar\": {\"outlinewidth\": 0, \"ticks\": \"\"}, \"type\": \"choropleth\"}], \"contour\": [{\"colorbar\": {\"outlinewidth\": 0, \"ticks\": \"\"}, \"colorscale\": [[0.0, \"#0d0887\"], [0.1111111111111111, \"#46039f\"], [0.2222222222222222, \"#7201a8\"], [0.3333333333333333, \"#9c179e\"], [0.4444444444444444, \"#bd3786\"], [0.5555555555555556, \"#d8576b\"], [0.6666666666666666, \"#ed7953\"], [0.7777777777777778, \"#fb9f3a\"], [0.8888888888888888, \"#fdca26\"], [1.0, \"#f0f921\"]], \"type\": \"contour\"}], \"contourcarpet\": [{\"colorbar\": {\"outlinewidth\": 0, \"ticks\": \"\"}, \"type\": \"contourcarpet\"}], \"heatmap\": [{\"colorbar\": {\"outlinewidth\": 0, \"ticks\": \"\"}, \"colorscale\": [[0.0, \"#0d0887\"], [0.1111111111111111, \"#46039f\"], [0.2222222222222222, \"#7201a8\"], [0.3333333333333333, \"#9c179e\"], [0.4444444444444444, \"#bd3786\"], [0.5555555555555556, \"#d8576b\"], [0.6666666666666666, \"#ed7953\"], [0.7777777777777778, \"#fb9f3a\"], [0.8888888888888888, \"#fdca26\"], [1.0, \"#f0f921\"]], \"type\": \"heatmap\"}], \"heatmapgl\": [{\"colorbar\": {\"outlinewidth\": 0, \"ticks\": \"\"}, \"colorscale\": [[0.0, \"#0d0887\"], [0.1111111111111111, \"#46039f\"], [0.2222222222222222, \"#7201a8\"], [0.3333333333333333, \"#9c179e\"], [0.4444444444444444, \"#bd3786\"], [0.5555555555555556, \"#d8576b\"], [0.6666666666666666, \"#ed7953\"], [0.7777777777777778, \"#fb9f3a\"], [0.8888888888888888, \"#fdca26\"], [1.0, \"#f0f921\"]], \"type\": \"heatmapgl\"}], \"histogram\": [{\"marker\": {\"colorbar\": {\"outlinewidth\": 0, \"ticks\": \"\"}}, \"type\": \"histogram\"}], \"histogram2d\": [{\"colorbar\": {\"outlinewidth\": 0, \"ticks\": \"\"}, \"colorscale\": [[0.0, \"#0d0887\"], [0.1111111111111111, \"#46039f\"], [0.2222222222222222, \"#7201a8\"], [0.3333333333333333, \"#9c179e\"], [0.4444444444444444, \"#bd3786\"], [0.5555555555555556, \"#d8576b\"], [0.6666666666666666, \"#ed7953\"], [0.7777777777777778, \"#fb9f3a\"], [0.8888888888888888, \"#fdca26\"], [1.0, \"#f0f921\"]], \"type\": \"histogram2d\"}], \"histogram2dcontour\": [{\"colorbar\": {\"outlinewidth\": 0, \"ticks\": \"\"}, \"colorscale\": [[0.0, \"#0d0887\"], [0.1111111111111111, \"#46039f\"], [0.2222222222222222, \"#7201a8\"], [0.3333333333333333, \"#9c179e\"], [0.4444444444444444, \"#bd3786\"], [0.5555555555555556, \"#d8576b\"], [0.6666666666666666, \"#ed7953\"], [0.7777777777777778, \"#fb9f3a\"], [0.8888888888888888, \"#fdca26\"], [1.0, \"#f0f921\"]], \"type\": \"histogram2dcontour\"}], \"mesh3d\": [{\"colorbar\": {\"outlinewidth\": 0, \"ticks\": \"\"}, \"type\": \"mesh3d\"}], \"parcoords\": [{\"line\": {\"colorbar\": {\"outlinewidth\": 0, \"ticks\": \"\"}}, \"type\": \"parcoords\"}], \"pie\": [{\"automargin\": true, \"type\": \"pie\"}], \"scatter\": [{\"marker\": {\"colorbar\": {\"outlinewidth\": 0, \"ticks\": \"\"}}, \"type\": \"scatter\"}], \"scatter3d\": [{\"line\": {\"colorbar\": {\"outlinewidth\": 0, \"ticks\": \"\"}}, \"marker\": {\"colorbar\": {\"outlinewidth\": 0, \"ticks\": \"\"}}, \"type\": \"scatter3d\"}], \"scattercarpet\": [{\"marker\": {\"colorbar\": {\"outlinewidth\": 0, \"ticks\": \"\"}}, \"type\": \"scattercarpet\"}], \"scattergeo\": [{\"marker\": {\"colorbar\": {\"outlinewidth\": 0, \"ticks\": \"\"}}, \"type\": \"scattergeo\"}], \"scattergl\": [{\"marker\": {\"colorbar\": {\"outlinewidth\": 0, \"ticks\": \"\"}}, \"type\": \"scattergl\"}], \"scattermapbox\": [{\"marker\": {\"colorbar\": {\"outlinewidth\": 0, \"ticks\": \"\"}}, \"type\": \"scattermapbox\"}], \"scatterpolar\": [{\"marker\": {\"colorbar\": {\"outlinewidth\": 0, \"ticks\": \"\"}}, \"type\": \"scatterpolar\"}], \"scatterpolargl\": [{\"marker\": {\"colorbar\": {\"outlinewidth\": 0, \"ticks\": \"\"}}, \"type\": \"scatterpolargl\"}], \"scatterternary\": [{\"marker\": {\"colorbar\": {\"outlinewidth\": 0, \"ticks\": \"\"}}, \"type\": \"scatterternary\"}], \"surface\": [{\"colorbar\": {\"outlinewidth\": 0, \"ticks\": \"\"}, \"colorscale\": [[0.0, \"#0d0887\"], [0.1111111111111111, \"#46039f\"], [0.2222222222222222, \"#7201a8\"], [0.3333333333333333, \"#9c179e\"], [0.4444444444444444, \"#bd3786\"], [0.5555555555555556, \"#d8576b\"], [0.6666666666666666, \"#ed7953\"], [0.7777777777777778, \"#fb9f3a\"], [0.8888888888888888, \"#fdca26\"], [1.0, \"#f0f921\"]], \"type\": \"surface\"}], \"table\": [{\"cells\": {\"fill\": {\"color\": \"#EBF0F8\"}, \"line\": {\"color\": \"white\"}}, \"header\": {\"fill\": {\"color\": \"#C8D4E3\"}, \"line\": {\"color\": \"white\"}}, \"type\": \"table\"}]}, \"layout\": {\"annotationdefaults\": {\"arrowcolor\": \"#2a3f5f\", \"arrowhead\": 0, \"arrowwidth\": 1}, \"autotypenumbers\": \"strict\", \"coloraxis\": {\"colorbar\": {\"outlinewidth\": 0, \"ticks\": \"\"}}, \"colorscale\": {\"diverging\": [[0, \"#8e0152\"], [0.1, \"#c51b7d\"], [0.2, \"#de77ae\"], [0.3, \"#f1b6da\"], [0.4, \"#fde0ef\"], [0.5, \"#f7f7f7\"], [0.6, \"#e6f5d0\"], [0.7, \"#b8e186\"], [0.8, \"#7fbc41\"], [0.9, \"#4d9221\"], [1, \"#276419\"]], \"sequential\": [[0.0, \"#0d0887\"], [0.1111111111111111, \"#46039f\"], [0.2222222222222222, \"#7201a8\"], [0.3333333333333333, \"#9c179e\"], [0.4444444444444444, \"#bd3786\"], [0.5555555555555556, \"#d8576b\"], [0.6666666666666666, \"#ed7953\"], [0.7777777777777778, \"#fb9f3a\"], [0.8888888888888888, \"#fdca26\"], [1.0, \"#f0f921\"]], \"sequentialminus\": [[0.0, \"#0d0887\"], [0.1111111111111111, \"#46039f\"], [0.2222222222222222, \"#7201a8\"], [0.3333333333333333, \"#9c179e\"], [0.4444444444444444, \"#bd3786\"], [0.5555555555555556, \"#d8576b\"], [0.6666666666666666, \"#ed7953\"], [0.7777777777777778, \"#fb9f3a\"], [0.8888888888888888, \"#fdca26\"], [1.0, \"#f0f921\"]]}, \"colorway\": [\"#636efa\", \"#EF553B\", \"#00cc96\", \"#ab63fa\", \"#FFA15A\", \"#19d3f3\", \"#FF6692\", \"#B6E880\", \"#FF97FF\", \"#FECB52\"], \"font\": {\"color\": \"#2a3f5f\"}, \"geo\": {\"bgcolor\": \"white\", \"lakecolor\": \"white\", \"landcolor\": \"#E5ECF6\", \"showlakes\": true, \"showland\": true, \"subunitcolor\": \"white\"}, \"hoverlabel\": {\"align\": \"left\"}, \"hovermode\": \"closest\", \"mapbox\": {\"style\": \"light\"}, \"paper_bgcolor\": \"white\", \"plot_bgcolor\": \"#E5ECF6\", \"polar\": {\"angularaxis\": {\"gridcolor\": \"white\", \"linecolor\": \"white\", \"ticks\": \"\"}, \"bgcolor\": \"#E5ECF6\", \"radialaxis\": {\"gridcolor\": \"white\", \"linecolor\": \"white\", \"ticks\": \"\"}}, \"scene\": {\"xaxis\": {\"backgroundcolor\": \"#E5ECF6\", \"gridcolor\": \"white\", \"gridwidth\": 2, \"linecolor\": \"white\", \"showbackground\": true, \"ticks\": \"\", \"zerolinecolor\": \"white\"}, \"yaxis\": {\"backgroundcolor\": \"#E5ECF6\", \"gridcolor\": \"white\", \"gridwidth\": 2, \"linecolor\": \"white\", \"showbackground\": true, \"ticks\": \"\", \"zerolinecolor\": \"white\"}, \"zaxis\": {\"backgroundcolor\": \"#E5ECF6\", \"gridcolor\": \"white\", \"gridwidth\": 2, \"linecolor\": \"white\", \"showbackground\": true, \"ticks\": \"\", \"zerolinecolor\": \"white\"}}, \"shapedefaults\": {\"line\": {\"color\": \"#2a3f5f\"}}, \"ternary\": {\"aaxis\": {\"gridcolor\": \"white\", \"linecolor\": \"white\", \"ticks\": \"\"}, \"baxis\": {\"gridcolor\": \"white\", \"linecolor\": \"white\", \"ticks\": \"\"}, \"bgcolor\": \"#E5ECF6\", \"caxis\": {\"gridcolor\": \"white\", \"linecolor\": \"white\", \"ticks\": \"\"}}, \"title\": {\"x\": 0.05}, \"xaxis\": {\"automargin\": true, \"gridcolor\": \"white\", \"linecolor\": \"white\", \"ticks\": \"\", \"title\": {\"standoff\": 15}, \"zerolinecolor\": \"white\", \"zerolinewidth\": 2}, \"yaxis\": {\"automargin\": true, \"gridcolor\": \"white\", \"linecolor\": \"white\", \"ticks\": \"\", \"title\": {\"standoff\": 15}, \"zerolinecolor\": \"white\", \"zerolinewidth\": 2}}}, \"xaxis\": {\"anchor\": \"y\", \"domain\": [0.0, 1.0], \"title\": {\"text\": \"date\"}}, \"yaxis\": {\"anchor\": \"x\", \"domain\": [0.0, 1.0], \"title\": {\"text\": \"value\"}}},                        {\"responsive\": true}                    ).then(function(){\n",
       "                            \n",
       "var gd = document.getElementById('0d2eed2d-8db8-434d-9f92-1212db083272');\n",
       "var x = new MutationObserver(function (mutations, observer) {{\n",
       "        var display = window.getComputedStyle(gd).display;\n",
       "        if (!display || display === 'none') {{\n",
       "            console.log([gd, 'removed!']);\n",
       "            Plotly.purge(gd);\n",
       "            observer.disconnect();\n",
       "        }}\n",
       "}});\n",
       "\n",
       "// Listen for the removal of the full notebook cells\n",
       "var notebookContainer = gd.closest('#notebook-container');\n",
       "if (notebookContainer) {{\n",
       "    x.observe(notebookContainer, {childList: true});\n",
       "}}\n",
       "\n",
       "// Listen for the clearing of the current output cell\n",
       "var outputEl = gd.closest('.output');\n",
       "if (outputEl) {{\n",
       "    x.observe(outputEl, {childList: true});\n",
       "}}\n",
       "\n",
       "                        })                };                });            </script>        </div>"
      ]
     },
     "metadata": {},
     "output_type": "display_data"
    }
   ],
   "source": [
    "import plotly.express as px\n",
    "fig = px.line(df3, x=df3.index, y=['25%','50%','75%'] )\n",
    "fig"
   ]
  },
  {
   "cell_type": "code",
   "execution_count": null,
   "metadata": {},
   "outputs": [],
   "source": [
    "def map(data, lat, lon, zoom):\n",
    "    st.write(pdk.Deck(\n",
    "            map_style=\"mapbox://styles/mapbox/light-v9\",\n",
    "            initial_view_state={\n",
    "                \"latitude\": lat,\n",
    "                \"longitude\": lon,\n",
    "                \"zoom\": zoom,\n",
    "                \"pitch\": 50,\n",
    "            },\n",
    "            layers=[\n",
    "                pdk.Layer(\n",
    "                    \"HexagonLayer\",\n",
    "                    data=data,\n",
    "                    get_position=[\"longitude\", \"latitude\"],\n",
    "                    radius=100,\n",
    "                    elevation_scale=4,\n",
    "                    elevation_range=[0, 1000],\n",
    "                    pickable=True,\n",
    "                    extruded=True,\n",
    "                ),\n",
    "            ], mapbox_key= 'pk.eyJ1Ijoiam9obnppbnoiLCJhIjoiY2tmbWthazZ6MDNueDJxb2ZyZ2M3czU0dyJ9.Bl3T4kl14xan7glGxid_Rw'\n",
    "        ))\n",
    "\n",
    "    # SETTING THE ZOOM LOCATIONS FOR THE AIRPORTS\n",
    "\n",
    "midpoint = (np.average(df2[\"latitude\"]), np.average(df2[\"longitude\"]))\n",
    "\n",
    "map(df2, midpoint[0], midpoint[1], 11)"
   ]
  },
  {
   "cell_type": "code",
   "execution_count": null,
   "metadata": {},
   "outputs": [],
   "source": []
  },
  {
   "cell_type": "code",
   "execution_count": null,
   "metadata": {},
   "outputs": [],
   "source": []
  },
  {
   "cell_type": "code",
   "execution_count": null,
   "metadata": {},
   "outputs": [],
   "source": [
    "df"
   ]
  },
  {
   "cell_type": "code",
   "execution_count": null,
   "metadata": {},
   "outputs": [],
   "source": [
    "\n",
    "df.loc[df.date=='2020-05-14'].host_id.nunique()"
   ]
  },
  {
   "cell_type": "code",
   "execution_count": null,
   "metadata": {},
   "outputs": [],
   "source": [
    "#find the top 20 districts\n",
    "\n",
    "top10=df.loc[df.date=='2020-05-14']['neighbourhood_cleansed'].value_counts()[:10].index.tolist()\n",
    "top10"
   ]
  },
  {
   "cell_type": "code",
   "execution_count": null,
   "metadata": {},
   "outputs": [],
   "source": [
    "df2=df.groupby(['neighbourhood_cleansed','date'],as_index=False).count()[['neighbourhood_cleansed','date','id']]"
   ]
  },
  {
   "cell_type": "code",
   "execution_count": null,
   "metadata": {},
   "outputs": [],
   "source": [
    "#df2=df2.sort_values(by=['id'], ascending=False)\n",
    "df2.date = pd.to_datetime(df2.date, format='%Y-%m-%d')"
   ]
  },
  {
   "cell_type": "code",
   "execution_count": null,
   "metadata": {},
   "outputs": [],
   "source": []
  },
  {
   "cell_type": "code",
   "execution_count": null,
   "metadata": {},
   "outputs": [],
   "source": [
    "toplot=df2.loc[df2['neighbourhood_cleansed'].isin(top15)]\n",
    "toplot"
   ]
  },
  {
   "cell_type": "code",
   "execution_count": null,
   "metadata": {},
   "outputs": [],
   "source": [
    "tp=toplot.pivot(index='date', columns='neighbourhood_cleansed', values='id').reset_index().rename_axis(None, axis=1)"
   ]
  },
  {
   "cell_type": "code",
   "execution_count": null,
   "metadata": {},
   "outputs": [],
   "source": [
    "\n",
    "\n",
    "\n",
    "import plotly.express as px\n",
    "toplot = df2.loc[df2['neighbourhood_cleansed'].isin(top10)]\n",
    "fig = px.line(toplot, x=\"date\", y=\"id\", color='neighbourhood_cleansed')\n",
    "fig.show()"
   ]
  },
  {
   "cell_type": "code",
   "execution_count": null,
   "metadata": {},
   "outputs": [],
   "source": []
  },
  {
   "cell_type": "code",
   "execution_count": null,
   "metadata": {},
   "outputs": [],
   "source": [
    "#find the top 20 hots\n",
    "\n",
    "top20=df.loc[df.date=='2020-05-14']['host_id'].value_counts()[:30].index.tolist()\n",
    "top20"
   ]
  },
  {
   "cell_type": "code",
   "execution_count": null,
   "metadata": {},
   "outputs": [],
   "source": [
    "df3=df.groupby(['host_id','date'],as_index=False).count()[['host_id','date','id']]"
   ]
  },
  {
   "cell_type": "code",
   "execution_count": null,
   "metadata": {},
   "outputs": [],
   "source": [
    "df3=df3.sort_values(by=['id'], ascending=False)\n",
    "df3.date = pd.to_datetime(df3.date, format='%Y-%m-%d')"
   ]
  },
  {
   "cell_type": "code",
   "execution_count": null,
   "metadata": {},
   "outputs": [],
   "source": [
    "toplot=df3.loc[df3['host_id'].isin(top20)]"
   ]
  },
  {
   "cell_type": "code",
   "execution_count": null,
   "metadata": {},
   "outputs": [],
   "source": [
    "toplot"
   ]
  },
  {
   "cell_type": "code",
   "execution_count": null,
   "metadata": {},
   "outputs": [],
   "source": [
    "toplot=df3.loc[df3['host_id'].isin(top20)]\n",
    "\n",
    "plt.figure(figsize=(15, 10)) \n",
    "\n",
    "\n",
    "\n",
    "sns.lineplot(data=toplot, x=\"date\", y=\"id\", hue='host_id', markers=True, dashes=False)"
   ]
  },
  {
   "cell_type": "code",
   "execution_count": null,
   "metadata": {},
   "outputs": [],
   "source": [
    "toplot=df3.copy()\n",
    "\n",
    "bins = [0,1,2,4,8,16,260]\n",
    "\n",
    "toplot['binned'] = pd.cut(toplot['id'], bins)\n",
    "\n",
    "\n",
    "\n",
    "toplot"
   ]
  },
  {
   "cell_type": "code",
   "execution_count": null,
   "metadata": {},
   "outputs": [],
   "source": [
    "df['binned_calc']=pd.cut(df['calculated_host_listings_count'], bins)"
   ]
  },
  {
   "cell_type": "code",
   "execution_count": null,
   "metadata": {},
   "outputs": [],
   "source": [
    "df['binned_calc']=df['binned_calc'].astype(str)"
   ]
  },
  {
   "cell_type": "code",
   "execution_count": null,
   "metadata": {},
   "outputs": [],
   "source": [
    "pie_5=df.groupby(['binned_calc','date'],as_index=False).count()[['binned_calc','date','id']]"
   ]
  },
  {
   "cell_type": "code",
   "execution_count": null,
   "metadata": {},
   "outputs": [],
   "source": [
    "pie_5.date"
   ]
  },
  {
   "cell_type": "code",
   "execution_count": null,
   "metadata": {},
   "outputs": [],
   "source": [
    "pie_5.loc[pie_5.date=='2016-05-03']"
   ]
  },
  {
   "cell_type": "code",
   "execution_count": null,
   "metadata": {},
   "outputs": [],
   "source": [
    "import plotly.graph_objects as go\n",
    "from plotly.subplots import make_subplots\n",
    "\n",
    "\n",
    "\n",
    "fig = make_subplots(rows=1, cols=2, specs=[[{'type':'domain'}, {'type':'domain'}]],\n",
    "                    subplot_titles=['2016','2020'])\n",
    "fig.add_trace(go.Pie(labels=pie_5.loc[pie_5.date=='2016-05-03'].binned_calc, \n",
    "                     values=pie_5.loc[pie_5.date=='2016-05-03'].id, scalegroup='one',\n",
    "                     name=\"2016\"), 1, 1)\n",
    "fig.add_trace(go.Pie(labels=pie_5.loc[pie_5.date=='2020-05-14'].binned_calc, \n",
    "                     values=pie_5.loc[pie_5.date=='2020-05-14'].id, scalegroup='one',\n",
    "                     name=\"2020\"), 1, 2)\n",
    "\n",
    "fig.update_layout(\n",
    "    margin=dict(l=0, r=0, t=0, b=0), height=600\n",
    ")\n",
    "\n",
    "fig.update_layout(title_text='Multiple flat host evolution')\n",
    "fig.show()\n",
    "fig.write_html(\"../Final/Pie_chart_5years.html\")"
   ]
  },
  {
   "cell_type": "code",
   "execution_count": null,
   "metadata": {},
   "outputs": [],
   "source": []
  },
  {
   "cell_type": "code",
   "execution_count": null,
   "metadata": {},
   "outputs": [],
   "source": [
    "# count the multiple host listings\n",
    "plot=toplot.groupby(['binned','date'],as_index=False).count()"
   ]
  },
  {
   "cell_type": "code",
   "execution_count": null,
   "metadata": {},
   "outputs": [],
   "source": [
    "fig = px.bar(plot, x='date', y='id', labels = {\"value\": \"count\", \"variable\": \"medal\"},\n",
    "             color='binned', \n",
    "            title='Number of hosts with multiple listings_only_apts')\n",
    "fig.show()\n",
    "fig.write_html(\"../Final/multipleL_host_5years.html\")"
   ]
  },
  {
   "cell_type": "markdown",
   "metadata": {},
   "source": [
    "# plot the multiple flat hosts over time on map"
   ]
  },
  {
   "cell_type": "code",
   "execution_count": null,
   "metadata": {},
   "outputs": [],
   "source": [
    "#toplot.loc[\n",
    "toplot['binned']=toplot['binned'].astype(str)\n"
   ]
  },
  {
   "cell_type": "code",
   "execution_count": null,
   "metadata": {},
   "outputs": [],
   "source": [
    "data2=toplot.loc[toplot['binned'].isin(['(2, 4]','(4, 8]','(8, 16]','(16, 260]'])][['date','host_id','binned']]"
   ]
  },
  {
   "cell_type": "code",
   "execution_count": null,
   "metadata": {},
   "outputs": [],
   "source": [
    "df.dtypes"
   ]
  },
  {
   "cell_type": "code",
   "execution_count": null,
   "metadata": {},
   "outputs": [],
   "source": [
    "df.date = pd.to_datetime(df.date, format='%Y-%m-%d')"
   ]
  },
  {
   "cell_type": "code",
   "execution_count": null,
   "metadata": {},
   "outputs": [],
   "source": [
    "data2.dtypes"
   ]
  },
  {
   "cell_type": "code",
   "execution_count": null,
   "metadata": {},
   "outputs": [],
   "source": [
    "data=pd.merge(df, data2,  how='left',  on=['host_id','date'])\n"
   ]
  },
  {
   "cell_type": "code",
   "execution_count": null,
   "metadata": {},
   "outputs": [],
   "source": [
    "# clean data for ploting\n",
    "#df=data.loc[data.binned.notnull()]\n",
    "df.date=df.date.apply(lambda x: x.strftime('%Y-%m'))"
   ]
  },
  {
   "cell_type": "code",
   "execution_count": null,
   "metadata": {},
   "outputs": [],
   "source": [
    "import plotly.figure_factory as ff\n",
    "\n",
    "# it needs a token for access mapbox\n",
    "px.set_mapbox_access_token('pk.eyJ1Ijoiam9obnppbnoiLCJhIjoiY2tmbWthazZ6MDNueDJxb2ZyZ2M3czU0dyJ9.Bl3T4kl14xan7glGxid_Rw')\n",
    "\n",
    "\n",
    "lat = df['latitude']\n",
    "lon = df['longitude']\n",
    "frame = df['date']\n",
    "\n",
    "fig = ff.create_hexbin_mapbox(\n",
    "    lat=lat, lon=lon, nx_hexagon=50, animation_frame=frame,\n",
    "    color_continuous_scale=\"Viridis\", labels={\"color\": \"Airbnb listings > 50\", \"frame\": \"Period\"},\n",
    "    opacity=0.5, min_count=60, height=500, zoom=10)\n",
    "    #show_original_data=True, original_data_marker=dict(opacity=0.4, size=3, color=\"blue\"))\n",
    "fig.update_layout(title={'text': \"density spots\"})\n",
    "fig.update_layout(margin={\"r\":0,\"t\":30,\"l\":0,\"b\":0})\n",
    "fig.show()\n",
    "\n",
    "# write to an html file\n",
    "fig.write_html(\"../Final/hives_for_density2.html\")"
   ]
  },
  {
   "cell_type": "code",
   "execution_count": null,
   "metadata": {},
   "outputs": [],
   "source": []
  },
  {
   "cell_type": "code",
   "execution_count": null,
   "metadata": {},
   "outputs": [],
   "source": []
  }
 ],
 "metadata": {
  "kernelspec": {
   "display_name": "Python 3",
   "language": "python",
   "name": "python3"
  },
  "language_info": {
   "codemirror_mode": {
    "name": "ipython",
    "version": 3
   },
   "file_extension": ".py",
   "mimetype": "text/x-python",
   "name": "python",
   "nbconvert_exporter": "python",
   "pygments_lexer": "ipython3",
   "version": "3.7.9"
  }
 },
 "nbformat": 4,
 "nbformat_minor": 4
}
